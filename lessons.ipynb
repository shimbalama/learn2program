{
 "cells": [
  {
   "cell_type": "markdown",
   "metadata": {},
   "source": [
    "# Lesson1: Types"
   ]
  },
  {
   "cell_type": "markdown",
   "metadata": {},
   "source": [
    "# Sentences (strings or str), numbers (ints/floats) and boolean (True/False)"
   ]
  },
  {
   "cell_type": "code",
   "execution_count": 8,
   "metadata": {},
   "outputs": [
    {
     "name": "stdout",
     "output_type": "stream",
     "text": [
      "Hello world\n"
     ]
    }
   ],
   "source": [
    "print ('Hello world') # first program!\n",
    "\n",
    "#Please note anything after a hash (#) is a comment and will not be run\n",
    "# the rest is code\n"
   ]
  },
  {
   "cell_type": "code",
   "execution_count": 9,
   "metadata": {},
   "outputs": [
    {
     "name": "stdout",
     "output_type": "stream",
     "text": [
      "1+1 =  2 8 6\n",
      "2/3 =  0.6666666666666666 0.67\n"
     ]
    }
   ],
   "source": [
    "#int (integer)\n",
    "var =0\n",
    "1\n",
    "\n",
    "#float - has decimal place, uses more memory\n",
    "1.0\n",
    "\n",
    "# use +, -, / and * for basic operations\n",
    "print ('1+1 = ', 1+1, 8, '6') \n",
    "print ('2/3 = ', 2/3, round(2/3,2)) #converts int to float (in python 3 only)"
   ]
  },
  {
   "cell_type": "markdown",
   "metadata": {
    "collapsed": true
   },
   "source": [
    "## What are some other mathematical things we can do?\n"
   ]
  },
  {
   "cell_type": "code",
   "execution_count": 10,
   "metadata": {},
   "outputs": [],
   "source": [
    "#hints +/-/x///log/square/round\n",
    "\n",
    "#Task - write 5 different mathematical lines of python"
   ]
  },
  {
   "cell_type": "code",
   "execution_count": null,
   "metadata": {},
   "outputs": [],
   "source": []
  },
  {
   "cell_type": "code",
   "execution_count": 11,
   "metadata": {},
   "outputs": [
    {
     "name": "stdout",
     "output_type": "stream",
     "text": [
      "1 = 1: True\n",
      "a: <class 'bool'>\n"
     ]
    }
   ],
   "source": [
    "#bool (Boolean - True or False)\n",
    "print ('1 = 1:', 1 < 12)\n",
    "a = True\n",
    "b = False\n",
    "print ('a:', type(a))\n"
   ]
  },
  {
   "cell_type": "markdown",
   "metadata": {},
   "source": [
    "## What can we test with bools?"
   ]
  },
  {
   "cell_type": "code",
   "execution_count": 12,
   "metadata": {},
   "outputs": [],
   "source": [
    "#Task - write 2 different boolean lines of python"
   ]
  },
  {
   "cell_type": "code",
   "execution_count": null,
   "metadata": {},
   "outputs": [],
   "source": []
  },
  {
   "cell_type": "code",
   "execution_count": 13,
   "metadata": {},
   "outputs": [
    {
     "name": "stdout",
     "output_type": "stream",
     "text": [
      "True\n",
      "name Liam McIntyre\n",
      "LIAM MCINTYRE\n"
     ]
    }
   ],
   "source": [
    "#str (string) - anything between quotation 'str' or \"str\"\n",
    "print ('string' == \"string\")\n",
    "\n",
    "# you can add str to str\n",
    "first_name = 'Liam'\n",
    "last_name = 'McIntyre'\n",
    "name = first_name + ' ' + last_name\n",
    "print ('name', name)\n",
    "print (name.upper())\n",
    "#You can't add strs and ints/floats\n",
    "#print ('name', name + 1)"
   ]
  },
  {
   "cell_type": "markdown",
   "metadata": {
    "collapsed": true
   },
   "source": [
    "## Use tab or help to see all the things you can do with strs\n",
    "#help(str)"
   ]
  },
  {
   "cell_type": "code",
   "execution_count": 14,
   "metadata": {},
   "outputs": [],
   "source": [
    "#Task - make a str and use some str functions on it"
   ]
  },
  {
   "cell_type": "code",
   "execution_count": null,
   "metadata": {},
   "outputs": [],
   "source": []
  },
  {
   "cell_type": "markdown",
   "metadata": {},
   "source": [
    "# Set variables"
   ]
  },
  {
   "cell_type": "code",
   "execution_count": 15,
   "metadata": {},
   "outputs": [
    {
     "name": "stdout",
     "output_type": "stream",
     "text": [
      "1\n",
      "<class 'int'>\n"
     ]
    }
   ],
   "source": [
    "x = 1 # Sets x to equal the int 1\n",
    "print (x)\n",
    "print (type(x))\n",
    "\n",
    "#can set any type to a variable name of your choosing"
   ]
  },
  {
   "cell_type": "code",
   "execution_count": 16,
   "metadata": {},
   "outputs": [
    {
     "name": "stdout",
     "output_type": "stream",
     "text": [
      "True\n",
      "3\n"
     ]
    }
   ],
   "source": [
    "print (x == 1) #One equals sets a  variable, two tests to see if equal\n",
    "print (x * 3) #x is now an int so can be multiplied by ints"
   ]
  },
  {
   "cell_type": "code",
   "execution_count": 17,
   "metadata": {},
   "outputs": [],
   "source": [
    "#Task - set some variables of different types and add/join them together"
   ]
  },
  {
   "cell_type": "code",
   "execution_count": null,
   "metadata": {},
   "outputs": [],
   "source": []
  },
  {
   "cell_type": "code",
   "execution_count": null,
   "metadata": {
    "collapsed": true
   },
   "outputs": [],
   "source": [
    "#type conversion - you can tell python to set/change types explicity\n",
    "\n",
    "a = '1' #str\n",
    "print (a, type(a))\n",
    "a = int(a)\n",
    "print (a, type(a))"
   ]
  },
  {
   "cell_type": "markdown",
   "metadata": {},
   "source": [
    "# Lesson 2: Containers"
   ]
  },
  {
   "cell_type": "code",
   "execution_count": 18,
   "metadata": {},
   "outputs": [
    {
     "name": "stdout",
     "output_type": "stream",
     "text": [
      "s1 {1, 2, 4, 5, 6}\n",
      "s2 {12}\n",
      "updated s1 {1, 2, 4, 5}\n"
     ]
    },
    {
     "data": {
      "text/plain": [
       "[1, 2, 4, 5]"
      ]
     },
     "execution_count": 18,
     "metadata": {},
     "output_type": "execute_result"
    }
   ],
   "source": [
    "# sets - no order, only unique elements and fast\n",
    "s1 = set([1,6,2,2,4,5])\n",
    "print ('s1', s1)\n",
    "\n",
    "# add to set \n",
    "s2 = set([]) #empty set = set([])\n",
    "s2.add(12) \n",
    "print ('s2', s2)\n",
    "\n",
    "# remove from set\n",
    "s1.discard(6)\n",
    "print ('updated s1', s1)\n",
    "list(s1)"
   ]
  },
  {
   "cell_type": "code",
   "execution_count": 19,
   "metadata": {},
   "outputs": [
    {
     "name": "stdout",
     "output_type": "stream",
     "text": [
      "l1 [1, 2, 2, 3, 4, 5]\n",
      "l2 [1]\n",
      "l1 after default pop():  [1, 2, 2, 3, 4]\n",
      "l1 after default pop(0):  [2, 2, 3, 4]\n",
      "1\n"
     ]
    }
   ],
   "source": [
    "# lists - ordered, slower and can have non unique elements\n",
    "l1 = [1,2,2,3,4,5]\n",
    "print ('l1', l1)\n",
    "\n",
    "# add to list\n",
    "l2 = [] #empty list = []\n",
    "l2.append(1) \n",
    "print ('l2', l2)\n",
    "\n",
    "# remove from list\n",
    "l1.pop() #removes last item by default\n",
    "print ('l1 after default pop(): ', l1)\n",
    "pop_var = l1.pop(0) #pop from zeroth index (first postion in list (computers count from 0))\n",
    "print ('l1 after default pop(0): ', l1)\n",
    "print (pop_var)"
   ]
  },
  {
   "cell_type": "code",
   "execution_count": 20,
   "metadata": {},
   "outputs": [
    {
     "name": "stdout",
     "output_type": "stream",
     "text": [
      "Lookup the value of a: None\n",
      "updated d1: {'a': 1, 'b': 2, 'c': 3, 'new': 0}\n",
      "d1 {'a': 1, 'b': 2, 'c': 3}\n"
     ]
    }
   ],
   "source": [
    "#dicts (dictionaries) known as hash or lookup tables in other languages\n",
    "d1 = {'a':1, 'b':2, 'c':3}\n",
    "\n",
    "#here a, b and c are keys and 1, 2 and 3 are values\n",
    "# We can lookup a value with its key\n",
    "print ('Lookup the value of a:', d1.get('1'))\n",
    "\n",
    "# add to dict\n",
    "d1['new'] = 0\n",
    "print ('updated d1:', d1)\n",
    "\n",
    "#remove from dict\n",
    "del (d1['new'])\n",
    "print ('d1',  d1)"
   ]
  },
  {
   "cell_type": "code",
   "execution_count": 21,
   "metadata": {},
   "outputs": [
    {
     "name": "stdout",
     "output_type": "stream",
     "text": [
      "[('march', 1), ('june', 2), ('july', 3)]\n",
      "{'march': 1, 'june': 2, 'july': 3}\n",
      "2\n"
     ]
    }
   ],
   "source": [
    "#Other ways of making dicts\n",
    "rain = [1,2,3]\n",
    "dates = ['march','june','july']\n",
    "print (list(zip(dates, rain)))\n",
    "dict_of_rain = dict(zip(dates, rain))\n",
    "print (dict_of_rain)\n",
    "print (dict_of_rain.get('june'))"
   ]
  },
  {
   "cell_type": "code",
   "execution_count": 22,
   "metadata": {},
   "outputs": [
    {
     "name": "stdout",
     "output_type": "stream",
     "text": [
      "1\n",
      "2\n",
      "3\n",
      "6\n"
     ]
    }
   ],
   "source": [
    "from collections import defaultdict\n",
    "d=defaultdict(int)\n",
    "for rainfall in rain:\n",
    "    print (rainfall)\n",
    "    d['rain'] += rainfall\n",
    "    \n",
    "print (d.get('rain'))"
   ]
  },
  {
   "cell_type": "code",
   "execution_count": 23,
   "metadata": {},
   "outputs": [
    {
     "name": "stdout",
     "output_type": "stream",
     "text": [
      "t1 (1, 2, 3)\n",
      "a, b, c : 1 2 3\n"
     ]
    }
   ],
   "source": [
    "#tuples \n",
    "t1 = (1,2,3)\n",
    "print ('t1', t1)\n",
    "\n",
    "#tuples are immutable (can't be changed) so you can't add or remvoe elements\n",
    "# you can unpack them though\n",
    "a, b, c = t1\n",
    "print ('a, b, c :', a, b, c )"
   ]
  },
  {
   "cell_type": "markdown",
   "metadata": {},
   "source": [
    "# Thats MOST of the common types you need to build anything!"
   ]
  },
  {
   "cell_type": "markdown",
   "metadata": {},
   "source": [
    "# MUTABILITY OF COMMON TYPES"
   ]
  },
  {
   "cell_type": "raw",
   "metadata": {},
   "source": [
    "Immutable:\n",
    "\n",
    "int\n",
    "float\n",
    "decimal\n",
    "complex\n",
    "bool\n",
    "string\n",
    "tuple\n",
    "range\n",
    "frozenset\n",
    "bytes\n",
    "\n",
    "The following are some mutable objects:\n",
    "\n",
    "list\n",
    "dict\n",
    "set\n",
    "bytearray"
   ]
  },
  {
   "cell_type": "markdown",
   "metadata": {
    "collapsed": true
   },
   "source": [
    "# Lesson 3: Logic"
   ]
  },
  {
   "cell_type": "markdown",
   "metadata": {},
   "source": [
    "# Loops"
   ]
  },
  {
   "cell_type": "code",
   "execution_count": null,
   "metadata": {},
   "outputs": [],
   "source": [
    "#For loops\n",
    "\n",
    "for i in [1,2,3]:# Iterates over the list [1,2,3]. Each iteration prints the next int in the list\n",
    "    print ('i:',i)"
   ]
  },
  {
   "cell_type": "code",
   "execution_count": null,
   "metadata": {},
   "outputs": [],
   "source": [
    "#i is a variable, we could call it anything\n",
    "for anything in [1,2,3]:\n",
    "    print ('anything:',anything)"
   ]
  },
  {
   "cell_type": "code",
   "execution_count": null,
   "metadata": {},
   "outputs": [],
   "source": [
    "for index, i in enumerate([1,2,3]):# the enumerate function to shows the index, which starts at 0\n",
    "    print ('index:',index, 'i:',i)"
   ]
  },
  {
   "cell_type": "code",
   "execution_count": null,
   "metadata": {},
   "outputs": [],
   "source": []
  },
  {
   "cell_type": "code",
   "execution_count": null,
   "metadata": {
    "collapsed": true
   },
   "outputs": [],
   "source": [
    "# We can iterate over most things\n",
    "a_set_of_ints = set([5,6,2,6,7])\n",
    "for i in a_set_of_ints:\n",
    "    print ('i:', i)\n",
    "#Why are there only 4 i's? Why did the order change?"
   ]
  },
  {
   "cell_type": "code",
   "execution_count": null,
   "metadata": {
    "collapsed": true
   },
   "outputs": [],
   "source": [
    "# We can iterate over most things\n",
    "a_list_of_strs = ['5','6','2','6','7']\n",
    "for i in a_list_of_strs:\n",
    "    print ('i:', i)\n",
    "#Why no chnages this time?"
   ]
  },
  {
   "cell_type": "code",
   "execution_count": null,
   "metadata": {
    "collapsed": true
   },
   "outputs": [],
   "source": [
    "# We can iterate over most things\n",
    "a_str = '56267'\n",
    "for i in a_str:\n",
    "    print ('i:', i)"
   ]
  },
  {
   "cell_type": "code",
   "execution_count": null,
   "metadata": {
    "collapsed": true
   },
   "outputs": [],
   "source": [
    "# We can iterate over most things\n",
    "a_dict = {'a':1,'b':2,'c':3}\n",
    "for i in a_dict:\n",
    "    print ('i:', i)"
   ]
  },
  {
   "cell_type": "code",
   "execution_count": null,
   "metadata": {
    "collapsed": true
   },
   "outputs": [],
   "source": [
    "#where are the values?\n",
    "a_dict = {'a':1,'b':2,'c':3}\n",
    "for i in a_dict:\n",
    "    print ('i:', 'key:', i, 'value:', a_dict.get(i))"
   ]
  },
  {
   "cell_type": "code",
   "execution_count": null,
   "metadata": {
    "collapsed": true
   },
   "outputs": [],
   "source": [
    "# We can iterate over most things\n",
    "a_tuple = (1,'2','f')\n",
    "for i in a_tuple:\n",
    "    print ('i:', i)"
   ]
  },
  {
   "cell_type": "code",
   "execution_count": null,
   "metadata": {},
   "outputs": [],
   "source": [
    "#list comprehension\n",
    "a_list = [var for var in a_tuple if var != 1]"
   ]
  },
  {
   "cell_type": "code",
   "execution_count": null,
   "metadata": {
    "collapsed": true
   },
   "outputs": [],
   "source": [
    "#What else can we iterate?"
   ]
  },
  {
   "cell_type": "code",
   "execution_count": null,
   "metadata": {
    "collapsed": true
   },
   "outputs": [],
   "source": [
    "#while loops\n",
    "x = 0\n",
    "while x < 4:#same as for loops but only end when a certain condition is met\n",
    "    print ('x:', x)\n",
    "    x += 1 #don't forget to increment the condition or you'll have an infinite loop!"
   ]
  },
  {
   "cell_type": "markdown",
   "metadata": {},
   "source": [
    "# if"
   ]
  },
  {
   "cell_type": "code",
   "execution_count": 24,
   "metadata": {},
   "outputs": [
    {
     "name": "stdout",
     "output_type": "stream",
     "text": [
      "3 is greater than 2\n"
     ]
    }
   ],
   "source": [
    "if 3 > 2:\n",
    "    print ('3 is greater than 2')"
   ]
  },
  {
   "cell_type": "code",
   "execution_count": 26,
   "metadata": {},
   "outputs": [
    {
     "name": "stdout",
     "output_type": "stream",
     "text": [
      "Case B: False\n",
      "Case A: True\n",
      "Case A: True\n"
     ]
    }
   ],
   "source": [
    "a_tuple = (1, '1', 'fred')\n",
    "\n",
    "for i in a_tuple:\n",
    "    if i != 1:\n",
    "        print ('Case A:',i != 1)\n",
    "    else:\n",
    "        print ('Case B:', i != 1)"
   ]
  },
  {
   "cell_type": "code",
   "execution_count": 13,
   "metadata": {},
   "outputs": [
    {
     "name": "stdout",
     "output_type": "stream",
     "text": [
      "Case C: i == a\n",
      "Case B: i == _\n",
      "Case C: i == s\n",
      "Case C: i == t\n",
      "Case A: i == r\n"
     ]
    }
   ],
   "source": [
    "a_str = 'a_str'\n",
    "\n",
    "for i in a_str:# Iterate over a str and test two conditions, if they are not met else catches all\n",
    "    if i == 'r':\n",
    "        print ('Case A: i == r')\n",
    "    elif i == '_':\n",
    "        print ('Case B: i == _')\n",
    "    else:\n",
    "        print ('Case C: i ==', i)"
   ]
  },
  {
   "cell_type": "markdown",
   "metadata": {},
   "source": [
    "# indexing"
   ]
  },
  {
   "cell_type": "code",
   "execution_count": 14,
   "metadata": {},
   "outputs": [
    {
     "name": "stdout",
     "output_type": "stream",
     "text": [
      "0th position of a_str: a\n"
     ]
    }
   ],
   "source": [
    "#get the ith position of an object or container\n",
    "a_str = 'a_str'\n",
    "print ('0th position of a_str:', a_str[0])"
   ]
  },
  {
   "cell_type": "code",
   "execution_count": null,
   "metadata": {
    "collapsed": true
   },
   "outputs": [],
   "source": [
    "print ('first postion of a_str:', a_str[1])#word better\n",
    "print ('4th postion of a_str:', a_str[4])"
   ]
  },
  {
   "cell_type": "code",
   "execution_count": null,
   "metadata": {
    "collapsed": true
   },
   "outputs": [],
   "source": [
    "print ('first 2 postions of a_str:', a_str[:2])# use [:] to take chunks\n",
    "print ('last 2 postions of a_str:', a_str[3:])\n",
    "print ('last 2 postions of a_str:', a_str[-2:])#use - to count from the end"
   ]
  },
  {
   "cell_type": "code",
   "execution_count": null,
   "metadata": {
    "collapsed": true
   },
   "outputs": [],
   "source": [
    "a_list = [1,2,3,4,5,6,7,8]\n",
    "print ('every 2nd position of a list:', a_list[::2])#use [::i] to take every ith position\n",
    "print ('every 3rd position of a list, reversed:', a_list[::-3])#use [::-n] to take every nth position in reverse"
   ]
  },
  {
   "cell_type": "markdown",
   "metadata": {
    "collapsed": true
   },
   "source": [
    "# lesson 4\n",
    "functions and classes"
   ]
  },
  {
   "cell_type": "code",
   "execution_count": null,
   "metadata": {
    "collapsed": true
   },
   "outputs": [],
   "source": [
    "def print_x(x):\n",
    "    print (x)\n",
    "print_x('x')"
   ]
  },
  {
   "cell_type": "code",
   "execution_count": null,
   "metadata": {},
   "outputs": [],
   "source": []
  },
  {
   "cell_type": "code",
   "execution_count": null,
   "metadata": {},
   "outputs": [],
   "source": []
  },
  {
   "cell_type": "code",
   "execution_count": 29,
   "metadata": {},
   "outputs": [],
   "source": [
    "#classes\n",
    "class Person:\n",
    "    \n",
    "    def __init__(self, age, first_name, last_name, height, sex):\n",
    "        #dunder mthods are private - just for use in class\n",
    "        self.age = age\n",
    "        self.first_name = first_name\n",
    "        self.last_name = last_name\n",
    "        self.height = height\n",
    "        self.sex = sex\n",
    "        \n",
    "    def fullname(self):\n",
    "        return '{} {}'.format(self.first_name, self.last_name)\n",
    "\n",
    "\n",
    "        "
   ]
  },
  {
   "cell_type": "code",
   "execution_count": 30,
   "metadata": {},
   "outputs": [
    {
     "name": "stdout",
     "output_type": "stream",
     "text": [
      "Liam\n"
     ]
    }
   ],
   "source": [
    "P1 = Person(35, 'Liam', 'McIntyre', 188, 'Male')\n",
    "P2 = Person(44, 'Bob', 'Jones', 133, 'Male')\n",
    "\n",
    "print (P1.first_name)"
   ]
  },
  {
   "cell_type": "code",
   "execution_count": 31,
   "metadata": {},
   "outputs": [
    {
     "name": "stdout",
     "output_type": "stream",
     "text": [
      "Liam McIntyre\n"
     ]
    }
   ],
   "source": [
    "print (P1.fullname())"
   ]
  },
  {
   "cell_type": "code",
   "execution_count": 32,
   "metadata": {},
   "outputs": [],
   "source": [
    "#date time\n",
    "import datetime\n",
    "bday = datetime.datetime(1983, 6, 8, 15,37,22)"
   ]
  },
  {
   "cell_type": "code",
   "execution_count": 33,
   "metadata": {},
   "outputs": [
    {
     "name": "stdout",
     "output_type": "stream",
     "text": [
      "1983-06-08 15:37:22\n"
     ]
    }
   ],
   "source": [
    "print(bday)"
   ]
  },
  {
   "cell_type": "code",
   "execution_count": 34,
   "metadata": {},
   "outputs": [],
   "source": [
    "#pandas\n",
    "import pandas as pd\n",
    "import datetime\n",
    "import pandas as pd\n",
    "import numpy as np\n",
    "\n",
    "todays_date = datetime.datetime.now().date()\n",
    "index = pd.date_range(todays_date-datetime.timedelta(10), periods=10, freq='D')\n",
    "\n",
    "columns = ['A','B', 'C']\n",
    "data = np.array([np.arange(10)]*3).T\n"
   ]
  },
  {
   "cell_type": "code",
   "execution_count": 35,
   "metadata": {},
   "outputs": [
    {
     "data": {
      "text/html": [
       "<div>\n",
       "<style scoped>\n",
       "    .dataframe tbody tr th:only-of-type {\n",
       "        vertical-align: middle;\n",
       "    }\n",
       "\n",
       "    .dataframe tbody tr th {\n",
       "        vertical-align: top;\n",
       "    }\n",
       "\n",
       "    .dataframe thead th {\n",
       "        text-align: right;\n",
       "    }\n",
       "</style>\n",
       "<table border=\"1\" class=\"dataframe\">\n",
       "  <thead>\n",
       "    <tr style=\"text-align: right;\">\n",
       "      <th></th>\n",
       "      <th>A</th>\n",
       "      <th>B</th>\n",
       "      <th>C</th>\n",
       "    </tr>\n",
       "  </thead>\n",
       "  <tbody>\n",
       "    <tr>\n",
       "      <th>2019-02-08</th>\n",
       "      <td>0</td>\n",
       "      <td>0</td>\n",
       "      <td>0</td>\n",
       "    </tr>\n",
       "    <tr>\n",
       "      <th>2019-02-09</th>\n",
       "      <td>1</td>\n",
       "      <td>1</td>\n",
       "      <td>1</td>\n",
       "    </tr>\n",
       "    <tr>\n",
       "      <th>2019-02-10</th>\n",
       "      <td>2</td>\n",
       "      <td>2</td>\n",
       "      <td>2</td>\n",
       "    </tr>\n",
       "    <tr>\n",
       "      <th>2019-02-11</th>\n",
       "      <td>3</td>\n",
       "      <td>3</td>\n",
       "      <td>3</td>\n",
       "    </tr>\n",
       "    <tr>\n",
       "      <th>2019-02-12</th>\n",
       "      <td>4</td>\n",
       "      <td>4</td>\n",
       "      <td>4</td>\n",
       "    </tr>\n",
       "    <tr>\n",
       "      <th>2019-02-13</th>\n",
       "      <td>5</td>\n",
       "      <td>5</td>\n",
       "      <td>5</td>\n",
       "    </tr>\n",
       "    <tr>\n",
       "      <th>2019-02-14</th>\n",
       "      <td>6</td>\n",
       "      <td>6</td>\n",
       "      <td>6</td>\n",
       "    </tr>\n",
       "    <tr>\n",
       "      <th>2019-02-15</th>\n",
       "      <td>7</td>\n",
       "      <td>7</td>\n",
       "      <td>7</td>\n",
       "    </tr>\n",
       "    <tr>\n",
       "      <th>2019-02-16</th>\n",
       "      <td>8</td>\n",
       "      <td>8</td>\n",
       "      <td>8</td>\n",
       "    </tr>\n",
       "    <tr>\n",
       "      <th>2019-02-17</th>\n",
       "      <td>9</td>\n",
       "      <td>9</td>\n",
       "      <td>9</td>\n",
       "    </tr>\n",
       "  </tbody>\n",
       "</table>\n",
       "</div>"
      ],
      "text/plain": [
       "            A  B  C\n",
       "2019-02-08  0  0  0\n",
       "2019-02-09  1  1  1\n",
       "2019-02-10  2  2  2\n",
       "2019-02-11  3  3  3\n",
       "2019-02-12  4  4  4\n",
       "2019-02-13  5  5  5\n",
       "2019-02-14  6  6  6\n",
       "2019-02-15  7  7  7\n",
       "2019-02-16  8  8  8\n",
       "2019-02-17  9  9  9"
      ]
     },
     "execution_count": 35,
     "metadata": {},
     "output_type": "execute_result"
    }
   ],
   "source": [
    "df = pd.DataFrame(data, index=index, columns=columns)\n",
    "df"
   ]
  },
  {
   "cell_type": "code",
   "execution_count": 37,
   "metadata": {},
   "outputs": [
    {
     "data": {
      "text/plain": [
       "A    8\n",
       "B    8\n",
       "C    8\n",
       "Name: 2019-02-16 00:00:00, dtype: int64"
      ]
     },
     "execution_count": 37,
     "metadata": {},
     "output_type": "execute_result"
    }
   ],
   "source": [
    "df.loc['2019-02-16']#get one row"
   ]
  },
  {
   "cell_type": "code",
   "execution_count": 41,
   "metadata": {},
   "outputs": [
    {
     "data": {
      "text/html": [
       "<div>\n",
       "<style scoped>\n",
       "    .dataframe tbody tr th:only-of-type {\n",
       "        vertical-align: middle;\n",
       "    }\n",
       "\n",
       "    .dataframe tbody tr th {\n",
       "        vertical-align: top;\n",
       "    }\n",
       "\n",
       "    .dataframe thead th {\n",
       "        text-align: right;\n",
       "    }\n",
       "</style>\n",
       "<table border=\"1\" class=\"dataframe\">\n",
       "  <thead>\n",
       "    <tr style=\"text-align: right;\">\n",
       "      <th></th>\n",
       "      <th>A</th>\n",
       "      <th>B</th>\n",
       "      <th>C</th>\n",
       "    </tr>\n",
       "  </thead>\n",
       "  <tbody>\n",
       "    <tr>\n",
       "      <th>2019-02-15</th>\n",
       "      <td>7</td>\n",
       "      <td>7</td>\n",
       "      <td>7</td>\n",
       "    </tr>\n",
       "    <tr>\n",
       "      <th>2019-02-16</th>\n",
       "      <td>8</td>\n",
       "      <td>8</td>\n",
       "      <td>8</td>\n",
       "    </tr>\n",
       "  </tbody>\n",
       "</table>\n",
       "</div>"
      ],
      "text/plain": [
       "            A  B  C\n",
       "2019-02-15  7  7  7\n",
       "2019-02-16  8  8  8"
      ]
     },
     "execution_count": 41,
     "metadata": {},
     "output_type": "execute_result"
    }
   ],
   "source": [
    "df.loc['2019-02-15':'2019-02-16']#get 2 rows"
   ]
  },
  {
   "cell_type": "code",
   "execution_count": 42,
   "metadata": {},
   "outputs": [
    {
     "data": {
      "text/plain": [
       "2019-02-15    7\n",
       "2019-02-16    8\n",
       "Freq: D, Name: A, dtype: int64"
      ]
     },
     "execution_count": 42,
     "metadata": {},
     "output_type": "execute_result"
    }
   ],
   "source": [
    "df.loc['2019-02-15':'2019-02-16','A']#2 rows and a col"
   ]
  },
  {
   "cell_type": "code",
   "execution_count": 43,
   "metadata": {},
   "outputs": [
    {
     "data": {
      "text/html": [
       "<div>\n",
       "<style scoped>\n",
       "    .dataframe tbody tr th:only-of-type {\n",
       "        vertical-align: middle;\n",
       "    }\n",
       "\n",
       "    .dataframe tbody tr th {\n",
       "        vertical-align: top;\n",
       "    }\n",
       "\n",
       "    .dataframe thead th {\n",
       "        text-align: right;\n",
       "    }\n",
       "</style>\n",
       "<table border=\"1\" class=\"dataframe\">\n",
       "  <thead>\n",
       "    <tr style=\"text-align: right;\">\n",
       "      <th></th>\n",
       "      <th>A</th>\n",
       "      <th>B</th>\n",
       "    </tr>\n",
       "  </thead>\n",
       "  <tbody>\n",
       "    <tr>\n",
       "      <th>2019-02-15</th>\n",
       "      <td>7</td>\n",
       "      <td>7</td>\n",
       "    </tr>\n",
       "    <tr>\n",
       "      <th>2019-02-16</th>\n",
       "      <td>8</td>\n",
       "      <td>8</td>\n",
       "    </tr>\n",
       "  </tbody>\n",
       "</table>\n",
       "</div>"
      ],
      "text/plain": [
       "            A  B\n",
       "2019-02-15  7  7\n",
       "2019-02-16  8  8"
      ]
     },
     "execution_count": 43,
     "metadata": {},
     "output_type": "execute_result"
    }
   ],
   "source": [
    "df.loc['2019-02-15':'2019-02-16',['A','B']]#2 rows 2 cols"
   ]
  },
  {
   "cell_type": "code",
   "execution_count": null,
   "metadata": {},
   "outputs": [],
   "source": []
  },
  {
   "cell_type": "code",
   "execution_count": null,
   "metadata": {
    "collapsed": true
   },
   "outputs": [],
   "source": []
  }
 ],
 "metadata": {
  "kernelspec": {
   "display_name": "Python 3",
   "language": "python",
   "name": "python3"
  },
  "language_info": {
   "codemirror_mode": {
    "name": "ipython",
    "version": 3
   },
   "file_extension": ".py",
   "mimetype": "text/x-python",
   "name": "python",
   "nbconvert_exporter": "python",
   "pygments_lexer": "ipython3",
   "version": "3.7.1"
  }
 },
 "nbformat": 4,
 "nbformat_minor": 2
}
