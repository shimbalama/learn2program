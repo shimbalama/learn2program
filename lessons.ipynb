{
 "cells": [
  {
   "cell_type": "markdown",
   "metadata": {},
   "source": [
    "# Lesson1: Types"
   ]
  },
  {
   "cell_type": "markdown",
   "metadata": {},
   "source": [
    "# Letters and numbers"
   ]
  },
  {
   "cell_type": "code",
   "execution_count": 1,
   "metadata": {},
   "outputs": [
    {
     "name": "stdout",
     "output_type": "stream",
     "text": [
      "Hello world\n"
     ]
    }
   ],
   "source": [
    "print ('Hello world') # first program!\n",
    "\n",
    "#Please note anything after a hash (#) is a comment and will not be run\n",
    "# the rest is code\n"
   ]
  },
  {
   "cell_type": "code",
   "execution_count": null,
   "metadata": {
    "collapsed": true
   },
   "outputs": [],
   "source": [
    "#introduce every core part of python language briefly as intro examples with syntax - contents of whats coming"
   ]
  },
  {
   "cell_type": "code",
   "execution_count": 5,
   "metadata": {},
   "outputs": [
    {
     "name": "stdout",
     "output_type": "stream",
     "text": [
      "1+1 =  2\n",
      "2/3 =  0.6666666666666666\n"
     ]
    }
   ],
   "source": [
    "#int (integer)\n",
    "int\n",
    "1\n",
    "#float - has decimal place, uses more memory\n",
    "1.0\n",
    "\n",
    "# use +, -, / and * for basic operations\n",
    "print ('1+1 = ', 1+1) \n",
    "print ('2/3 = ', 2/3) #converts int to float (in python 3 only)"
   ]
  },
  {
   "cell_type": "code",
   "execution_count": 8,
   "metadata": {},
   "outputs": [
    {
     "name": "stdout",
     "output_type": "stream",
     "text": [
      "1 = 1: True\n",
      "a: duck\n"
     ]
    }
   ],
   "source": [
    "#bool (Boolean - True or False)\n",
    "print ('1 = 1:', 1 == 1)\n",
    "a = True\n",
    "b = False\n",
    "print ('a:', a)"
   ]
  },
  {
   "cell_type": "code",
   "execution_count": 12,
   "metadata": {},
   "outputs": [
    {
     "name": "stdout",
     "output_type": "stream",
     "text": [
      "True\n",
      "name Liam McIntyre\n"
     ]
    }
   ],
   "source": [
    "#str (string) - anything between quation 'str' or \"str\"\n",
    "print ('string' == \"string\")\n",
    "\n",
    "# you can add str to str\n",
    "first_name = 'Liam'\n",
    "last_name = 'McIntyre'\n",
    "name = first_name + ' ' + last_name\n",
    "print ('name', name)\n",
    "\n",
    "#You can't add strs and ints/floats\n",
    "#print ('name', name + 1)"
   ]
  },
  {
   "cell_type": "markdown",
   "metadata": {},
   "source": [
    "# Set variables"
   ]
  },
  {
   "cell_type": "code",
   "execution_count": 10,
   "metadata": {},
   "outputs": [
    {
     "name": "stdout",
     "output_type": "stream",
     "text": [
      "1\n",
      "<class 'int'>\n"
     ]
    }
   ],
   "source": [
    "x = 1 # Sets x to equal the int 1\n",
    "print (x)\n",
    "print (type(x))\n",
    "\n",
    "#can set any type to a variable name of your choosing"
   ]
  },
  {
   "cell_type": "code",
   "execution_count": 13,
   "metadata": {},
   "outputs": [
    {
     "name": "stdout",
     "output_type": "stream",
     "text": [
      "True\n",
      "3\n"
     ]
    }
   ],
   "source": [
    "print (x == 1) #One equals setsa  variable, two tests to see if equal\n",
    "print (x * 3) #x is now an int so can be multiplied by ints"
   ]
  },
  {
   "cell_type": "markdown",
   "metadata": {},
   "source": [
    "# Containers"
   ]
  },
  {
   "cell_type": "code",
   "execution_count": 14,
   "metadata": {},
   "outputs": [
    {
     "name": "stdout",
     "output_type": "stream",
     "text": [
      "s1 {1, 2, 4, 5, 6}\n",
      "s2 {1}\n",
      "updated s1 {1, 2, 4, 5}\n"
     ]
    }
   ],
   "source": [
    "#2do - add examles of why the trade of fmatters matters - example in game code\n",
    "# sets - doesn't maintain order, only unique elements and fast\n",
    "s1 = set([1,6,2,2,4,5])\n",
    "print ('s1', s1)\n",
    "\n",
    "# add to set \n",
    "s2 = set([]) #empty set = set([])\n",
    "s2.add(1) \n",
    "print ('s2', s2)\n",
    "\n",
    "# remove from set\n",
    "s1.discard(6)\n",
    "print ('updated s1', s1)"
   ]
  },
  {
   "cell_type": "code",
   "execution_count": 15,
   "metadata": {},
   "outputs": [
    {
     "name": "stdout",
     "output_type": "stream",
     "text": [
      "l1 [1, 2, 2, 3, 4, 5]\n",
      "l2 [1]\n",
      "l1 after default pop():  [1, 2, 2, 3, 4]\n",
      "l1 after default pop(0):  [2, 2, 3, 4]\n"
     ]
    }
   ],
   "source": [
    "# lists - ordered, slower and can have non unique elements\n",
    "l1 = [1,2,2,3,4,5]\n",
    "print ('l1', l1)\n",
    "\n",
    "# add to list\n",
    "l2 = [] #empty list = []\n",
    "l2.append(1) \n",
    "print ('l2', l2)\n",
    "\n",
    "# remove from list\n",
    "l1.pop() #removes last item by default\n",
    "print ('l1 after default pop(): ', l1)\n",
    "l1.pop(0) #pop from zeroth index (first postion in list (computers count from 0))\n",
    "print ('l1 after default pop(0): ', l1)"
   ]
  },
  {
   "cell_type": "code",
   "execution_count": 16,
   "metadata": {},
   "outputs": [
    {
     "name": "stdout",
     "output_type": "stream",
     "text": [
      "d1 {'a': 1, 'b': 2, 'c': 3}\n",
      "Lookup the value of a: 1\n",
      "updated d1: {'a': 1, 'b': 2, 'c': 3, 'new': 0}\n",
      "d1 {'a': 1, 'b': 2, 'c': 3}\n"
     ]
    }
   ],
   "source": [
    "#learn how to explain hash lookup  - pretty picture of container structure with objects in it\n",
    "#dicts (dictionaries) known as hash or lookup tables in other languages\n",
    "d1 = {'a':1, 'b':2, 'c':3}\n",
    "print ('d1', d1)\n",
    "\n",
    "#here a, b and c are keys and 1, 2 and 3 are values\n",
    "# We can lookup a value with its key\n",
    "print ('Lookup the value of a:', d1.get('a'))\n",
    "\n",
    "# add to dict\n",
    "d1['new'] = 0\n",
    "print ('updated d1:', d1)\n",
    "\n",
    "#remove from dict\n",
    "del (d1['new'])\n",
    "print ('d1',  d1)"
   ]
  },
  {
   "cell_type": "code",
   "execution_count": 19,
   "metadata": {},
   "outputs": [
    {
     "name": "stdout",
     "output_type": "stream",
     "text": [
      "t1 (1, 2, 3)\n",
      "a, b, c : 1 2 3\n"
     ]
    }
   ],
   "source": [
    "#tuples \n",
    "t1 = (1,2,3)\n",
    "print ('t1', t1)\n",
    "\n",
    "#tuples are immutable (can't be changed) so you can't add or remvoe elements\n",
    "# you can unpack them though\n",
    "a, b, c = t1\n",
    "print ('a, b, c :', a, b, c )"
   ]
  },
  {
   "cell_type": "code",
   "execution_count": 22,
   "metadata": {},
   "outputs": [
    {
     "name": "stdout",
     "output_type": "stream",
     "text": [
      "1 <class 'str'>\n",
      "1 <class 'int'>\n"
     ]
    }
   ],
   "source": [
    "#type conversion - you can tell python to set/change types explicity\n",
    "\n",
    "a = '1' #str\n",
    "print (a, type(a))\n",
    "a = int(a)\n",
    "print (a, type(a))"
   ]
  },
  {
   "cell_type": "markdown",
   "metadata": {},
   "source": [
    "# Thats MOST of the common types you need to build anything!"
   ]
  },
  {
   "cell_type": "markdown",
   "metadata": {},
   "source": [
    "# MUTABILITY OF COMMON TYPES"
   ]
  },
  {
   "cell_type": "raw",
   "metadata": {},
   "source": [
    "Immutable:\n",
    "\n",
    "int\n",
    "float\n",
    "decimal\n",
    "complex\n",
    "bool\n",
    "string\n",
    "tuple\n",
    "range\n",
    "frozenset\n",
    "bytes\n",
    "\n",
    "The following are some mutable objects:\n",
    "\n",
    "list\n",
    "dict\n",
    "set\n",
    "bytearray"
   ]
  },
  {
   "cell_type": "markdown",
   "metadata": {
    "collapsed": true
   },
   "source": [
    "# Lesson 2: Logic"
   ]
  },
  {
   "cell_type": "markdown",
   "metadata": {},
   "source": [
    "# Loops"
   ]
  },
  {
   "cell_type": "code",
   "execution_count": null,
   "metadata": {},
   "outputs": [],
   "source": [
    "#For loops\n",
    "\n",
    "for i in [1,2,3]:# Iterates over the list [1,2,3]. Each iteration prints the next int in the list\n",
    "    print ('i:',i)"
   ]
  },
  {
   "cell_type": "code",
   "execution_count": null,
   "metadata": {},
   "outputs": [],
   "source": [
    "#i is a variable, we could call it anything\n",
    "for anything in [1,2,3]:\n",
    "    print ('anything:',anything)"
   ]
  },
  {
   "cell_type": "code",
   "execution_count": null,
   "metadata": {},
   "outputs": [],
   "source": [
    "for index, i in enumerate([1,2,3]):# the enumerate function to shows the index, which starts at 0\n",
    "    print ('index:',index, 'i:',i)"
   ]
  },
  {
   "cell_type": "code",
   "execution_count": null,
   "metadata": {},
   "outputs": [],
   "source": [
    "# We can iterate over most things\n",
    "a_set_of_ints = set([5,6,2,6,7])\n",
    "for i in a_set_of_ints:\n",
    "    print ('i:', i)\n",
    "#Why are there only 4 i's? Why did the order change?"
   ]
  },
  {
   "cell_type": "code",
   "execution_count": null,
   "metadata": {},
   "outputs": [],
   "source": [
    "# We can iterate over most things\n",
    "a_list_of_strs = ['5','6','2','6','7']\n",
    "for i in a_list_of_strs:\n",
    "    print ('i:', i)\n",
    "#Why no chnages this time?"
   ]
  },
  {
   "cell_type": "code",
   "execution_count": null,
   "metadata": {},
   "outputs": [],
   "source": [
    "# We can iterate over most things\n",
    "a_str = '56267'\n",
    "for i in a_str:\n",
    "    print ('i:', i)"
   ]
  },
  {
   "cell_type": "code",
   "execution_count": null,
   "metadata": {},
   "outputs": [],
   "source": [
    "# We can iterate over most things\n",
    "a_dict = {'a':1,'b':2,'c':3}\n",
    "for i in a_dict:\n",
    "    print ('i:', i)"
   ]
  },
  {
   "cell_type": "code",
   "execution_count": null,
   "metadata": {},
   "outputs": [],
   "source": [
    "#where are the values?\n",
    "a_dict = {'a':1,'b':2,'c':3}\n",
    "for i in a_dict:\n",
    "    print ('i:', 'key:',i,'value:',a_dict.get(i))"
   ]
  },
  {
   "cell_type": "code",
   "execution_count": null,
   "metadata": {},
   "outputs": [],
   "source": [
    "# We can iterate over most things\n",
    "a_tuple = (1,'2','f')\n",
    "for i in a_tuple:\n",
    "    print ('i:', i)"
   ]
  },
  {
   "cell_type": "code",
   "execution_count": null,
   "metadata": {
    "collapsed": true
   },
   "outputs": [],
   "source": [
    "#What else can we iterate?"
   ]
  },
  {
   "cell_type": "code",
   "execution_count": null,
   "metadata": {},
   "outputs": [],
   "source": [
    "#while loops\n",
    "x = 0\n",
    "while x < 4:#same as for loops but only end when a certain condition is met\n",
    "    print ('x:', x)\n",
    "    x += 1 #don't forget to increment the condition or you'll have an infinite loop!"
   ]
  },
  {
   "cell_type": "markdown",
   "metadata": {},
   "source": [
    "# if"
   ]
  },
  {
   "cell_type": "code",
   "execution_count": null,
   "metadata": {},
   "outputs": [],
   "source": [
    "if 3 > 2:\n",
    "    print ('3 is greater than 2')"
   ]
  },
  {
   "cell_type": "code",
   "execution_count": null,
   "metadata": {},
   "outputs": [],
   "source": [
    "a_tuple = (1,'1','f')\n",
    "for i in a_tuple:\n",
    "    if i != 1:\n",
    "        print (i != 1, 'i = ', i, ', i != 1')\n",
    "    else:\n",
    "        print (i != 1, 'i = ', i, ', i = 1')"
   ]
  },
  {
   "cell_type": "code",
   "execution_count": null,
   "metadata": {},
   "outputs": [],
   "source": [
    "a_str = 'a_str'\n",
    "for i in a_str:# Iterate over a str and test two conditions, if they are not met else catches all\n",
    "    if i == 'r':\n",
    "        print ('if: i is r!')\n",
    "    elif i == '_':\n",
    "        print ('elif: i is _')\n",
    "    else:\n",
    "        print ('else: i isnt r or _! i is', i)"
   ]
  },
  {
   "cell_type": "markdown",
   "metadata": {},
   "source": [
    "# indexing"
   ]
  },
  {
   "cell_type": "code",
   "execution_count": null,
   "metadata": {},
   "outputs": [],
   "source": [
    "#get the ith position of an object or container\n",
    "a_str = 'a_str'\n",
    "print ('0th position of a_str:', a_str[0])"
   ]
  },
  {
   "cell_type": "code",
   "execution_count": null,
   "metadata": {},
   "outputs": [],
   "source": [
    "print ('first postion of a_str:', a_str[1])\n",
    "print ('4th postion of a_str:', a_str[4])"
   ]
  },
  {
   "cell_type": "code",
   "execution_count": null,
   "metadata": {},
   "outputs": [],
   "source": [
    "print ('first 2 postions of a_str:', a_str[:2])# use [:] to take chunks\n",
    "print ('last 2 postions of a_str:', a_str[3:])\n",
    "print ('last 2 postions of a_str:', a_str[-2:])#use - to count from the end"
   ]
  },
  {
   "cell_type": "code",
   "execution_count": null,
   "metadata": {},
   "outputs": [],
   "source": [
    "a_list = [1,2,3,4,5,6,7,8]\n",
    "print ('every 2nd position of a list:', a_list[::2])#use [::n] to take every nth position\n",
    "print ('every 3rd position of a list, reversed:', a_list[::-3])#use [::-n] to take every nth position in reverse"
   ]
  },
  {
   "cell_type": "code",
   "execution_count": null,
   "metadata": {
    "collapsed": true
   },
   "outputs": [],
   "source": []
  },
  {
   "cell_type": "code",
   "execution_count": null,
   "metadata": {
    "collapsed": true
   },
   "outputs": [],
   "source": []
  }
 ],
 "metadata": {
  "kernelspec": {
   "display_name": "Python 3",
   "language": "python",
   "name": "python3"
  },
  "language_info": {
   "codemirror_mode": {
    "name": "ipython",
    "version": 3
   },
   "file_extension": ".py",
   "mimetype": "text/x-python",
   "name": "python",
   "nbconvert_exporter": "python",
   "pygments_lexer": "ipython3",
   "version": "3.6.2"
  }
 },
 "nbformat": 4,
 "nbformat_minor": 2
}
