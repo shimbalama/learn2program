{
 "cells": [
  {
   "cell_type": "markdown",
   "metadata": {},
   "source": [
    "# Lesson1: Types"
   ]
  },
  {
   "cell_type": "markdown",
   "metadata": {},
   "source": [
    "# Sentences (strings or str), numbers (ints/floats) and boolean (True/False)"
   ]
  },
  {
   "cell_type": "code",
<<<<<<< HEAD
   "execution_count": null,
   "metadata": {
    "collapsed": true
   },
   "outputs": [],
   "source": []
  },
  {
   "cell_type": "code",
   "execution_count": 2,
=======
   "execution_count": 8,
>>>>>>> 7884b9ede21c6e8a65b8bcf916166c44a3856425
   "metadata": {},
   "outputs": [
    {
     "name": "stdout",
     "output_type": "stream",
     "text": [
<<<<<<< HEAD
      "Hello worl'd 2\n"
=======
      "Hello world\n"
>>>>>>> 7884b9ede21c6e8a65b8bcf916166c44a3856425
     ]
    }
   ],
   "source": [
<<<<<<< HEAD
    "print (\"Hello worl'd\"+' 2') # first program!\n",
=======
    "print ('Hello world') # first program!\n",
>>>>>>> 7884b9ede21c6e8a65b8bcf916166c44a3856425
    "\n",
    "#Please note anything after a hash (#) is a comment and will not be run\n",
    "# the rest is code\n"
   ]
  },
  {
   "cell_type": "code",
<<<<<<< HEAD
   "execution_count": null,
   "metadata": {
    "collapsed": true
   },
   "outputs": [],
   "source": [
    "#introduce every core part of python language briefly as intro examples with syntax - contents of whats coming"
   ]
  },
  {
   "cell_type": "code",
   "execution_count": 3,
=======
   "execution_count": 9,
>>>>>>> 7884b9ede21c6e8a65b8bcf916166c44a3856425
   "metadata": {},
   "outputs": [
    {
     "name": "stdout",
     "output_type": "stream",
     "text": [
<<<<<<< HEAD
      "1+1 =  2 8 6 T <class 'str'>\n",
=======
      "1+1 =  2 8 6\n",
>>>>>>> 7884b9ede21c6e8a65b8bcf916166c44a3856425
      "2/3 =  0.6666666666666666 0.67\n"
     ]
    }
   ],
   "source": [
    "#int (integer)\n",
    "var = 0\n",
    "1\n",
    "\n",
    "#float - has decimal place, uses more memory\n",
    "1.0\n",
<<<<<<< HEAD
    "var2 = 'T'\n",
=======
    "\n",
>>>>>>> 7884b9ede21c6e8a65b8bcf916166c44a3856425
    "# use +, -, / and * for basic operations\n",
    "print ('1+1 = ', 1+1, 8, '6') \n",
    "print ('2/3 = ', 2/3, round(2/3,2)) #converts int to float (in python 3 only)"
   ]
  },
  {
   "cell_type": "markdown",
   "metadata": {
    "collapsed": true
   },
   "source": [
    "## What are some other mathematical things we can do?\n"
   ]
  },
  {
   "cell_type": "code",
   "execution_count": 10,
   "metadata": {},
   "outputs": [],
   "source": [
    "#hints +/-/x///log/square/round\n",
    "\n",
    "#Task - write 5 different mathematical lines of python"
   ]
  },
  {
   "cell_type": "code",
   "execution_count": null,
   "metadata": {},
   "outputs": [],
   "source": []
  },
  {
   "cell_type": "code",
<<<<<<< HEAD
   "execution_count": 5,
=======
   "execution_count": 11,
>>>>>>> 7884b9ede21c6e8a65b8bcf916166c44a3856425
   "metadata": {},
   "outputs": [
    {
     "name": "stdout",
     "output_type": "stream",
     "text": [
      "1 = 1: True\n",
      "a: <class 'bool'>\n"
     ]
    }
   ],
   "source": [
    "#bool (Boolean - True or False)\n",
    "print ('1 = 1:', 1 < 12)\n",
    "a = True\n",
    "b = False\n",
    "print ('a:', type(a))\n"
   ]
  },
  {
   "cell_type": "markdown",
   "metadata": {},
   "source": [
    "## What can we test with bools?"
   ]
  },
  {
   "cell_type": "code",
   "execution_count": 12,
   "metadata": {},
   "outputs": [],
   "source": [
    "#Task - write 2 different boolean lines of python"
   ]
  },
  {
   "cell_type": "code",
   "execution_count": 15,
   "metadata": {},
<<<<<<< HEAD
   "outputs": [
    {
     "name": "stdout",
     "output_type": "stream",
     "text": [
      "gg\n",
      "3\n"
     ]
    }
   ],
   "source": [
    "def method1():\n",
    "    print ('gg')\n",
    "    \n",
    "def method2(x,y):\n",
    "    print (x+y)\n",
    "    \n",
    "method1()\n",
    "method2(1,2) "
   ]
=======
   "outputs": [],
   "source": []
>>>>>>> 7884b9ede21c6e8a65b8bcf916166c44a3856425
  },
  {
   "cell_type": "code",
   "execution_count": 13,
   "metadata": {},
   "outputs": [
    {
     "name": "stdout",
     "output_type": "stream",
     "text": [
      "True\n",
      "name Liam McIntyre\n",
<<<<<<< HEAD
      "LIAM INTYRE\n"
=======
      "LIAM MCINTYRE\n"
>>>>>>> 7884b9ede21c6e8a65b8bcf916166c44a3856425
     ]
    }
   ],
   "source": [
    "#str (string) - anything between quotation 'str' or \"str\"\n",
    "print ('string' == \"string\")\n",
    "\n",
    "# you can add str to str\n",
    "first_name = 'Liam'\n",
    "last_name = 'McIntyre'\n",
    "name = first_name + ' ' + last_name\n",
    "print ('name', name)\n",
    "print (name.upper().replace('MC',''))\n",
    "#You can't add strs and ints/floats\n",
    "#print ('name', name + 1)"
   ]
  },
  {
   "cell_type": "markdown",
   "metadata": {
    "collapsed": true
   },
   "source": [
    "## Use tab or help to see all the things you can do with strs\n",
    "#help(str)"
   ]
  },
  {
   "cell_type": "code",
   "execution_count": 14,
   "metadata": {},
   "outputs": [],
   "source": [
    "#Task - make a str and use some str functions on it"
   ]
  },
  {
   "cell_type": "code",
   "execution_count": null,
   "metadata": {},
   "outputs": [],
   "source": []
  },
  {
   "cell_type": "markdown",
   "metadata": {},
   "source": [
    "# Set variables"
   ]
  },
  {
   "cell_type": "code",
<<<<<<< HEAD
   "execution_count": null,
   "metadata": {
    "collapsed": true
   },
   "outputs": [],
=======
   "execution_count": 15,
   "metadata": {},
   "outputs": [
    {
     "name": "stdout",
     "output_type": "stream",
     "text": [
      "1\n",
      "<class 'int'>\n"
     ]
    }
   ],
>>>>>>> 7884b9ede21c6e8a65b8bcf916166c44a3856425
   "source": [
    "x = 1 # Sets x to equal the int 1\n",
    "print (x)\n",
    "print (type(x))\n",
    "\n",
    "#can set any type to a variable name of your choosing"
   ]
  },
  {
   "cell_type": "code",
<<<<<<< HEAD
   "execution_count": null,
   "metadata": {
    "collapsed": true
   },
   "outputs": [],
=======
   "execution_count": 16,
   "metadata": {},
   "outputs": [
    {
     "name": "stdout",
     "output_type": "stream",
     "text": [
      "True\n",
      "3\n"
     ]
    }
   ],
>>>>>>> 7884b9ede21c6e8a65b8bcf916166c44a3856425
   "source": [
    "print (x == 1) #One equals sets a  variable, two tests to see if equal\n",
    "print (x * 3) #x is now an int so can be multiplied by ints"
   ]
  },
  {
   "cell_type": "code",
   "execution_count": 17,
   "metadata": {},
   "outputs": [],
   "source": [
    "#Task - set some variables of different types and add/join them together"
   ]
  },
  {
   "cell_type": "code",
   "execution_count": null,
   "metadata": {},
   "outputs": [],
   "source": []
  },
  {
   "cell_type": "code",
   "execution_count": null,
   "metadata": {
    "collapsed": true
   },
   "outputs": [],
   "source": [
    "#type conversion - you can tell python to set/change types explicity\n",
    "\n",
    "a = '1' #str\n",
    "print (a, type(a))\n",
    "a = int(a)\n",
    "print (a, type(a))"
   ]
  },
  {
   "cell_type": "markdown",
   "metadata": {},
   "source": [
    "# Lesson 2: Containers"
   ]
  },
  {
   "cell_type": "code",
<<<<<<< HEAD
   "execution_count": null,
   "metadata": {
    "collapsed": true
   },
   "outputs": [],
=======
   "execution_count": 18,
   "metadata": {},
   "outputs": [
    {
     "name": "stdout",
     "output_type": "stream",
     "text": [
      "s1 {1, 2, 4, 5, 6}\n",
      "s2 {12}\n",
      "updated s1 {1, 2, 4, 5}\n"
     ]
    },
    {
     "data": {
      "text/plain": [
       "[1, 2, 4, 5]"
      ]
     },
     "execution_count": 18,
     "metadata": {},
     "output_type": "execute_result"
    }
   ],
>>>>>>> 7884b9ede21c6e8a65b8bcf916166c44a3856425
   "source": [
    "# sets - no order, only unique elements and fast\n",
    "s1 = set([1,6,2,2,4,5])\n",
    "print ('s1', s1)\n",
    "\n",
    "# add to set \n",
    "s2 = set([]) #empty set = set([])\n",
    "s2.add(12) \n",
    "print ('s2', s2)\n",
    "\n",
    "# remove from set\n",
    "s1.discard(6)\n",
    "print ('updated s1', s1)\n",
    "list(s1)"
   ]
  },
  {
   "cell_type": "code",
<<<<<<< HEAD
   "execution_count": null,
   "metadata": {
    "collapsed": true
   },
   "outputs": [],
=======
   "execution_count": 19,
   "metadata": {},
   "outputs": [
    {
     "name": "stdout",
     "output_type": "stream",
     "text": [
      "l1 [1, 2, 2, 3, 4, 5]\n",
      "l2 [1]\n",
      "l1 after default pop():  [1, 2, 2, 3, 4]\n",
      "l1 after default pop(0):  [2, 2, 3, 4]\n",
      "1\n"
     ]
    }
   ],
>>>>>>> 7884b9ede21c6e8a65b8bcf916166c44a3856425
   "source": [
    "# lists - ordered, slower and can have non unique elements\n",
    "l1 = [1,2,2,3,4,5]\n",
    "print ('l1', l1)\n",
    "\n",
    "# add to list\n",
    "l2 = [] #empty list = []\n",
    "l2.append(1) \n",
    "print ('l2', l2)\n",
    "\n",
    "# remove from list\n",
    "l1.pop() #removes last item by default\n",
    "print ('l1 after default pop(): ', l1)\n",
    "pop_var = l1.pop(0) #pop from zeroth index (first postion in list (computers count from 0))\n",
    "print ('l1 after default pop(0): ', l1)\n",
    "print (pop_var)"
   ]
  },
  {
   "cell_type": "code",
<<<<<<< HEAD
   "execution_count": null,
   "metadata": {
    "collapsed": true
   },
   "outputs": [],
=======
   "execution_count": 20,
   "metadata": {},
   "outputs": [
    {
     "name": "stdout",
     "output_type": "stream",
     "text": [
      "Lookup the value of a: None\n",
      "updated d1: {'a': 1, 'b': 2, 'c': 3, 'new': 0}\n",
      "d1 {'a': 1, 'b': 2, 'c': 3}\n"
     ]
    }
   ],
>>>>>>> 7884b9ede21c6e8a65b8bcf916166c44a3856425
   "source": [
    "#dicts (dictionaries) known as hash or lookup tables in other languages\n",
    "d1 = {'a':1, 'b':2, 'c':3}\n",
    "\n",
    "#here a, b and c are keys and 1, 2 and 3 are values\n",
    "# We can lookup a value with its key\n",
    "print ('Lookup the value of a:', d1.get('1'))\n",
    "\n",
    "# add to dict\n",
    "d1['new'] = 0\n",
    "print ('updated d1:', d1)\n",
    "\n",
    "#remove from dict\n",
    "del (d1['new'])\n",
    "print ('d1',  d1)"
   ]
  },
  {
   "cell_type": "code",
<<<<<<< HEAD
   "execution_count": null,
   "metadata": {
    "collapsed": true
   },
   "outputs": [],
=======
   "execution_count": 21,
   "metadata": {},
   "outputs": [
    {
     "name": "stdout",
     "output_type": "stream",
     "text": [
      "[('march', 1), ('june', 2), ('july', 3)]\n",
      "{'march': 1, 'june': 2, 'july': 3}\n",
      "2\n"
     ]
    }
   ],
>>>>>>> 7884b9ede21c6e8a65b8bcf916166c44a3856425
   "source": [
    "#Other ways of making dicts\n",
    "rain = [1,2,3]\n",
    "dates = ['march','june','july']\n",
    "print (list(zip(dates, rain)))\n",
    "dict_of_rain = dict(zip(dates, rain))\n",
    "print (dict_of_rain)\n",
    "print (dict_of_rain.get('june'))"
   ]
  },
  {
   "cell_type": "code",
<<<<<<< HEAD
   "execution_count": null,
   "metadata": {
    "collapsed": true
   },
   "outputs": [],
=======
   "execution_count": 22,
   "metadata": {},
   "outputs": [
    {
     "name": "stdout",
     "output_type": "stream",
     "text": [
      "1\n",
      "2\n",
      "3\n",
      "6\n"
     ]
    }
   ],
>>>>>>> 7884b9ede21c6e8a65b8bcf916166c44a3856425
   "source": [
    "from collections import defaultdict\n",
    "d=defaultdict(int)\n",
    "for rainfall in rain:\n",
    "    print (rainfall)\n",
    "    d['rain'] += rainfall\n",
    "    \n",
    "print (d.get('rain'))"
   ]
  },
  {
   "cell_type": "code",
   "execution_count": 23,
   "metadata": {},
   "outputs": [
    {
     "name": "stdout",
     "output_type": "stream",
     "text": [
      "t1 (1, 2, 3)\n",
      "a, b, c : 1 2 3\n"
     ]
    }
   ],
   "source": [
    "#tuples \n",
    "t1 = (1,2,3)\n",
    "print ('t1', t1)\n",
    "\n",
    "#tuples are immutable (can't be changed) so you can't add or remvoe elements\n",
    "# you can unpack them though\n",
    "a, b, c = t1\n",
    "print ('a, b, c :', a, b, c )"
   ]
  },
  {
   "cell_type": "markdown",
   "metadata": {},
   "source": [
    "# Thats MOST of the common types you need to build anything!"
   ]
  },
  {
   "cell_type": "markdown",
   "metadata": {},
   "source": [
    "# MUTABILITY OF COMMON TYPES"
   ]
  },
  {
   "cell_type": "raw",
   "metadata": {},
   "source": [
    "Immutable:\n",
    "\n",
    "int\n",
    "float\n",
    "decimal\n",
    "complex\n",
    "bool\n",
    "string\n",
    "tuple\n",
    "range\n",
    "frozenset\n",
    "bytes\n",
    "\n",
    "The following are some mutable objects:\n",
    "\n",
    "list\n",
    "dict\n",
    "set\n",
    "bytearray"
   ]
  },
  {
   "cell_type": "markdown",
   "metadata": {
    "collapsed": true
   },
   "source": [
    "# Lesson 3: Logic"
   ]
  },
  {
   "cell_type": "markdown",
   "metadata": {},
   "source": [
    "# Loops"
   ]
  },
  {
   "cell_type": "code",
   "execution_count": null,
   "metadata": {
    "collapsed": true
   },
   "outputs": [],
   "source": [
    "#For loops\n",
    "\n",
    "for i in [1,2,3]:# Iterates over the list [1,2,3]. Each iteration prints the next int in the list\n",
    "    print ('i:',i)"
   ]
  },
  {
   "cell_type": "code",
   "execution_count": null,
   "metadata": {
    "collapsed": true
   },
   "outputs": [],
   "source": [
    "#i is a variable, we could call it anything\n",
    "for anything in [1,2,3]:\n",
    "    print ('anything:',anything)"
   ]
  },
  {
   "cell_type": "code",
   "execution_count": null,
   "metadata": {
    "collapsed": true
   },
   "outputs": [],
   "source": [
    "for index, i in enumerate([1,2,3]):# the enumerate function to shows the index, which starts at 0\n",
    "    print ('index:',index, 'i:',i)"
   ]
  },
  {
   "cell_type": "code",
   "execution_count": null,
   "metadata": {
    "collapsed": true
   },
   "outputs": [],
   "source": []
  },
  {
   "cell_type": "code",
   "execution_count": null,
   "metadata": {
    "collapsed": true
   },
   "outputs": [],
   "source": [
    "# We can iterate over most things\n",
    "a_set_of_ints = set([5,6,2,6,7])\n",
    "for i in a_set_of_ints:\n",
    "    print ('i:', i)\n",
    "#Why are there only 4 i's? Why did the order change?"
   ]
  },
  {
   "cell_type": "code",
   "execution_count": null,
   "metadata": {
    "collapsed": true
   },
   "outputs": [],
   "source": [
    "# We can iterate over most things\n",
    "a_list_of_strs = ['5','6','2','6','7']\n",
    "for i in a_list_of_strs:\n",
    "    print ('i:', i)\n",
    "#Why no chnages this time?"
   ]
  },
  {
   "cell_type": "code",
   "execution_count": null,
   "metadata": {
    "collapsed": true
   },
   "outputs": [],
   "source": [
    "# We can iterate over most things\n",
    "a_str = '56267'\n",
    "for i in a_str:\n",
    "    print ('i:', i)"
   ]
  },
  {
   "cell_type": "code",
   "execution_count": null,
   "metadata": {
    "collapsed": true
   },
   "outputs": [],
   "source": [
    "# We can iterate over most things\n",
    "a_dict = {'a':1,'b':2,'c':3}\n",
    "for i in a_dict:\n",
    "    print ('i:', i)"
   ]
  },
  {
   "cell_type": "code",
   "execution_count": null,
   "metadata": {
    "collapsed": true
   },
   "outputs": [],
   "source": [
    "#where are the values?\n",
    "a_dict = {'a':1,'b':2,'c':3}\n",
    "for i in a_dict:\n",
    "    print ('i:', 'key:', i, 'value:', a_dict.get(i))"
   ]
  },
  {
   "cell_type": "code",
   "execution_count": null,
   "metadata": {
    "collapsed": true
   },
   "outputs": [],
   "source": [
    "# We can iterate over most things\n",
    "a_tuple = (1,'2','f')\n",
    "for i in a_tuple:\n",
    "    print ('i:', i)"
   ]
  },
  {
   "cell_type": "code",
   "execution_count": null,
   "metadata": {},
   "outputs": [],
   "source": [
    "#list comprehension\n",
    "a_list = [var for var in a_tuple if var != 1]"
   ]
  },
  {
   "cell_type": "code",
   "execution_count": null,
   "metadata": {
    "collapsed": true
   },
   "outputs": [],
   "source": [
    "#What else can we iterate?"
   ]
  },
  {
   "cell_type": "code",
   "execution_count": null,
   "metadata": {
    "collapsed": true
   },
   "outputs": [],
   "source": [
    "#while loops\n",
    "x = 0\n",
    "while x < 4:#same as for loops but only end when a certain condition is met\n",
    "    print ('x:', x)\n",
    "    x += 1 #don't forget to increment the condition or you'll have an infinite loop!"
   ]
  },
  {
   "cell_type": "markdown",
   "metadata": {},
   "source": [
    "# if"
   ]
  },
  {
   "cell_type": "code",
   "execution_count": 24,
   "metadata": {},
   "outputs": [
    {
     "name": "stdout",
     "output_type": "stream",
     "text": [
      "3 is greater than 2\n"
     ]
    }
   ],
   "source": [
    "if 3 > 2:\n",
    "    print ('3 is greater than 2')"
   ]
  },
  {
   "cell_type": "code",
<<<<<<< HEAD
   "execution_count": null,
   "metadata": {
    "collapsed": true
   },
   "outputs": [],
=======
   "execution_count": 26,
   "metadata": {},
   "outputs": [
    {
     "name": "stdout",
     "output_type": "stream",
     "text": [
      "Case B: False\n",
      "Case A: True\n",
      "Case A: True\n"
     ]
    }
   ],
>>>>>>> 7884b9ede21c6e8a65b8bcf916166c44a3856425
   "source": [
    "a_tuple = (1, '1', 'fred')\n",
    "\n",
    "for i in a_tuple:\n",
    "    if i != 1:\n",
    "        print ('Case A:',i != 1)\n",
    "    else:\n",
    "        print ('Case B:', i != 1)"
   ]
  },
  {
   "cell_type": "code",
   "execution_count": null,
   "metadata": {
    "collapsed": true
   },
   "outputs": [],
   "source": [
    "a_str = 'a_str'\n",
    "\n",
    "for i in a_str:# Iterate over a str and test two conditions, if they are not met else catches all\n",
    "    if i == 'r':\n",
    "        print ('Case A: i == r')\n",
    "    elif i == '_':\n",
    "        print ('Case B: i == _')\n",
    "    else:\n",
    "        print ('Case C: i ==', i)"
   ]
  },
  {
   "cell_type": "markdown",
   "metadata": {},
   "source": [
    "# indexing"
   ]
  },
  {
   "cell_type": "code",
   "execution_count": null,
   "metadata": {
    "collapsed": true
   },
   "outputs": [],
   "source": [
    "#get the ith position of an object or container\n",
    "a_str = 'a_str'\n",
    "print ('0th position of a_str:', a_str[0])"
   ]
  },
  {
   "cell_type": "code",
   "execution_count": null,
   "metadata": {
    "collapsed": true
   },
   "outputs": [],
   "source": [
    "print ('first postion of a_str:', a_str[1])#word better\n",
    "print ('4th postion of a_str:', a_str[4])"
   ]
  },
  {
   "cell_type": "code",
   "execution_count": null,
   "metadata": {
    "collapsed": true
   },
   "outputs": [],
   "source": [
    "print ('first 2 postions of a_str:', a_str[:2])# use [:] to take chunks\n",
    "print ('last 2 postions of a_str:', a_str[3:])\n",
    "print ('last 2 postions of a_str:', a_str[-2:])#use - to count from the end"
   ]
  },
  {
   "cell_type": "code",
   "execution_count": null,
   "metadata": {
    "collapsed": true
   },
   "outputs": [],
   "source": [
    "a_list = [1,2,3,4,5,6,7,8]\n",
    "print ('every 2nd position of a list:', a_list[::2])#use [::i] to take every ith position\n",
    "print ('every 3rd position of a list, reversed:', a_list[::-3])#use [::-n] to take every nth position in reverse"
   ]
  },
  {
   "cell_type": "markdown",
   "metadata": {
    "collapsed": true
   },
   "source": [
    "# lesson 4\n",
    "functions and classes"
   ]
  },
  {
   "cell_type": "code",
   "execution_count": null,
   "metadata": {
    "collapsed": true
   },
   "outputs": [],
   "source": [
    "def print_x(x):\n",
    "    print (x)\n",
    "print_x('x')"
   ]
  },
  {
   "cell_type": "code",
   "execution_count": null,
   "metadata": {},
   "outputs": [],
   "source": []
  },
  {
   "cell_type": "code",
<<<<<<< HEAD
   "execution_count": 4,
   "metadata": {},
   "outputs": [
    {
     "ename": "ImportError",
     "evalue": "cannot import name 'ttk'",
     "output_type": "error",
     "traceback": [
      "\u001b[0;31m---------------------------------------------------------------------------\u001b[0m",
      "\u001b[0;31mImportError\u001b[0m                               Traceback (most recent call last)",
      "\u001b[0;32m<ipython-input-4-251a5e870396>\u001b[0m in \u001b[0;36m<module>\u001b[0;34m()\u001b[0m\n\u001b[0;32m----> 1\u001b[0;31m \u001b[0;32mfrom\u001b[0m \u001b[0mturtle\u001b[0m \u001b[0;32mimport\u001b[0m \u001b[0;34m*\u001b[0m\u001b[0;34m\u001b[0m\u001b[0m\n\u001b[0m\u001b[1;32m      2\u001b[0m \u001b[0;32mfrom\u001b[0m \u001b[0mmath\u001b[0m \u001b[0;32mimport\u001b[0m \u001b[0;34m*\u001b[0m\u001b[0;34m\u001b[0m\u001b[0m\n\u001b[1;32m      3\u001b[0m \u001b[0;34m\u001b[0m\u001b[0m\n\u001b[1;32m      4\u001b[0m \u001b[0mcanvas_height\u001b[0m \u001b[0;34m=\u001b[0m \u001b[0;36m700\u001b[0m \u001b[0;31m# pixels\u001b[0m\u001b[0;34m\u001b[0m\u001b[0m\n\u001b[1;32m      5\u001b[0m \u001b[0mcanvas_width\u001b[0m \u001b[0;34m=\u001b[0m \u001b[0;36m1100\u001b[0m \u001b[0;31m# pixels\u001b[0m\u001b[0;34m\u001b[0m\u001b[0m\n",
      "\u001b[0;32m~/anaconda3/lib/python3.6/turtle.py\u001b[0m in \u001b[0;36m<module>\u001b[0;34m()\u001b[0m\n\u001b[1;32m    105\u001b[0m \u001b[0;31m# print(_ver)\u001b[0m\u001b[0;34m\u001b[0m\u001b[0;34m\u001b[0m\u001b[0m\n\u001b[1;32m    106\u001b[0m \u001b[0;34m\u001b[0m\u001b[0m\n\u001b[0;32m--> 107\u001b[0;31m \u001b[0;32mimport\u001b[0m \u001b[0mtkinter\u001b[0m \u001b[0;32mas\u001b[0m \u001b[0mTK\u001b[0m\u001b[0;34m\u001b[0m\u001b[0m\n\u001b[0m\u001b[1;32m    108\u001b[0m \u001b[0;32mimport\u001b[0m \u001b[0mtypes\u001b[0m\u001b[0;34m\u001b[0m\u001b[0m\n\u001b[1;32m    109\u001b[0m \u001b[0;32mimport\u001b[0m \u001b[0mmath\u001b[0m\u001b[0;34m\u001b[0m\u001b[0m\n",
      "\u001b[0;32m~/Dropbox/work/uniMelb/code/github/learn2program/tkinter.py\u001b[0m in \u001b[0;36m<module>\u001b[0;34m()\u001b[0m\n\u001b[1;32m      1\u001b[0m \u001b[0;32mfrom\u001b[0m \u001b[0mtkinter\u001b[0m \u001b[0;32mimport\u001b[0m \u001b[0;34m*\u001b[0m\u001b[0;34m\u001b[0m\u001b[0m\n\u001b[0;32m----> 2\u001b[0;31m \u001b[0;32mfrom\u001b[0m \u001b[0mtkinter\u001b[0m \u001b[0;32mimport\u001b[0m \u001b[0mttk\u001b[0m\u001b[0;34m\u001b[0m\u001b[0m\n\u001b[0m\u001b[1;32m      3\u001b[0m \u001b[0;34m\u001b[0m\u001b[0m\n\u001b[1;32m      4\u001b[0m '''\n\u001b[1;32m      5\u001b[0m \u001b[0mThese\u001b[0m \u001b[0mtwo\u001b[0m \u001b[0mlines\u001b[0m \u001b[0mtell\u001b[0m \u001b[0mPython\u001b[0m \u001b[0mthat\u001b[0m \u001b[0mour\u001b[0m \u001b[0mprogram\u001b[0m \u001b[0mneeds\u001b[0m \u001b[0mtwo\u001b[0m \u001b[0mmodules\u001b[0m\u001b[0;34m.\u001b[0m \u001b[0mThe\u001b[0m \u001b[0mfirst\u001b[0m\u001b[0;34m,\u001b[0m \u001b[0;34m\"tkinter\"\u001b[0m\u001b[0;34m,\u001b[0m \u001b[0;32mis\u001b[0m \u001b[0mthe\u001b[0m \u001b[0mstandard\u001b[0m \u001b[0mbinding\u001b[0m \u001b[0mto\u001b[0m \u001b[0mTk\u001b[0m\u001b[0;34m,\u001b[0m\u001b[0;34m\u001b[0m\u001b[0m\n",
      "\u001b[0;31mImportError\u001b[0m: cannot import name 'ttk'"
     ]
    }
   ],
   "source": [
    "from turtle import *\n",
    "from math import *\n",
    "\n",
    "canvas_height = 700 # pixels\n",
    "canvas_width = 1100 # pixels\n",
    "grass_depth = 95 # vertical depth of the \"grass\", in pixels\n",
    "half_width = canvas_width // 2 # maximum x coordinate in either direction\n",
    "grid_font = ('Arial', 10, 'normal') # font for drawing the grid\n",
    "grid_size = 50 # gradations for the x and y scales shown on the screen\n",
    "offset = 5 # offset of the x-y coordinates from the screen's edge, in pixels\n",
    "max_height = canvas_height - grass_depth # maximum positive y coordinate\n",
    "max_building_height = 575 # city ordinance maximum building height\n",
    "site_width = 240 # maximum width of a building site\n",
    "\n",
    "sites = [['Site 1', [-225, 0]],\n",
    "         ['Site 2', [25, 0]],\n",
    "         ['Site 3', [275, 0]],\n",
    "         ['Site 4', [-375, -25]],\n",
    "         ['Site 5', [-125, -25]],\n",
    "         ['Site 6', [125, -25]],\n",
    "         ['Site 7', [375, -25]],\n",
    "         ['Site 8', [-275, -50]],\n",
    "         ['Site 9', [-25, -50]],\n",
    "         ['Site 10', [225, -50]]]\n",
    "def create_drawing_canvas(show_grid = True):\n",
    "\n",
    "    # Set up the drawing canvas with coordinate (0, 0) in the\n",
    "    # \"grass\" area\n",
    "    setup(canvas_width, canvas_height)\n",
    "    setworldcoordinates(-half_width, -grass_depth, half_width, max_height)\n",
    "\n",
    "    # Draw as fast as possible\n",
    "    tracer(False)\n",
    "\n",
    "    # Make the sky blue\n",
    "    bgcolor('sky blue')\n",
    "\n",
    "    # Draw the \"grass\" as a big green rectangle (overlapping the\n",
    "    # edge of the drawing canvas slightly)\n",
    "    overlap = 25 # pixels\n",
    "    penup()\n",
    "    goto(-(half_width + overlap), -(grass_depth + overlap)) # bottom-left\n",
    "    fillcolor('pale green')\n",
    "    begin_fill()\n",
    "    setheading(90) # face north\n",
    "    forward(grass_depth + overlap * 2)\n",
    "    right(90) # face east\n",
    "    forward(canvas_width + overlap * 2)\n",
    "    right(90) # face south\n",
    "    forward(grass_depth + overlap * 2)\n",
    "    end_fill()\n",
    "\n",
    "    # Draw a nice warm sun peeking into the image at the top left\n",
    "    penup()\n",
    "    goto(-canvas_width // 3, canvas_height - grass_depth)\n",
    "    pencolor('yellow')\n",
    "    dot(350)\n",
    "\n",
    "    # Draw a big fluffy white cloud in the sky\n",
    "    goto(canvas_width // 4, canvas_height - grass_depth - 100)\n",
    "    pencolor('white')\n",
    "    dot(200)\n",
    "    setheading(200)\n",
    "    forward(100)\n",
    "    dot(180)\n",
    "    setheading(0)\n",
    "    forward(200)\n",
    "    dot(160)\n",
    "\n",
    "    # Optionally draw x coordinates along the bottom of the\n",
    "    pencolor('black')\n",
    "    if show_grid:\n",
    "        for x_coord in range(-half_width + grid_size, half_width, grid_size):\n",
    "            goto(x_coord, -grass_depth + offset)\n",
    "            write('| ' + str(x_coord), font = grid_font)\n",
    "\n",
    "    # Optionally draw y coordinates on the left-hand edge of\n",
    "    if show_grid:\n",
    "        for y_coord in range(-grid_size, max_height, grid_size):\n",
    "            goto(-half_width + offset, y_coord - offset)\n",
    "            write(y_coord, font = grid_font)\n",
    "        goto(-half_width + offset, max_building_height - 5)\n",
    "        write('Maximum allowed building height', font = grid_font)\n",
    "\n",
    "    # Optionally mark each of the building sites approved by\n",
    "    if show_grid:\n",
    "        for site_name, location in sites:\n",
    "            goto(location)\n",
    "            dot(5)\n",
    "            goto(location[0] - (site_width // 2), location[1])\n",
    "            setheading(0)\n",
    "            pendown()\n",
    "            forward(site_width)\n",
    "            penup()\n",
    "            goto(location[0] - 40, location[1] - 17)\n",
    "            write(site_name + ': ' + str(location), font = grid_font)\n",
    "     \n",
    "    pencolor('black')\n",
    "    width(1)\n",
    "    penup()\n",
    "    home()\n",
    "    tracer(True)\n",
    "\n",
    "\n",
    "def release_drawing_canvas(hide_cursor = True):\n",
    "    tracer(True) # ensure any drawing in progress is displayed\n",
    "    if hide_cursor:\n",
    "        hideturtle()\n",
    "    done()\n",
    "def random_plan(print_plan = True):\n",
    "    building_probability = 70 # percent\n",
    "    option_probability = 20 # percent\n",
    "    from random import randint, choice\n",
    "    # Create a random list of building instructions\n",
    "    city_plan = []\n",
    "    for site in range(1, len(sites) + 1): # consider each building site\n",
    "        if randint(1, 100) <= building_probability: # decide whether to build here\n",
    "            style = choice(['A', 'B', 'C', 'D']) # choose building style\n",
    "            num_floors = randint(1, 10) # choose number of floors\n",
    "            if randint(1, 100) <= option_probability: # decide on option's value\n",
    "                option = 'X'\n",
    "            else:\n",
    "                option = 'O'\n",
    "            city_plan.append([site, style, num_floors, option])\n",
    "    # Optionally print the result to the shell window\n",
    "    if print_plan:\n",
    "        print('\\nBuildings to be constructed from random_plan\\n' +\n",
    "              '(site, style, no. floors, option):\\n\\n',\n",
    "              str(city_plan).replace('],', '],\\n '))\n",
    "    # Return the result to the student's build_city function\n",
    "    return city_plan\n",
    "\n",
    "\n",
    "def rectangle(site_x,site_y,building_height,colour, width):\n",
    "\n",
    "    goto(site_x+110,site_y)\n",
    "    fillcolor(colour)\n",
    "    begin_fill()\n",
    "    setheading(90) # face north\n",
    "    forward(building_height*55)\n",
    "    left(90)\n",
    "    forward(width)\n",
    "    left(90)\n",
    "    forward(building_height*55)\n",
    "    left(90)\n",
    "    forward(width)\n",
    "    left(90)\n",
    "    end_fill()\n",
    "\n",
    "def build_city(plan):\n",
    "\n",
    "    for building in plan:\n",
    "        building_site = building[0]\n",
    "        building_style = building[1]\n",
    "        building_height = building[2]\n",
    "        site = sites[building_site-1]\n",
    "        site_x = site[1][0]\n",
    "        site_y = site[1][1]\n",
    "        if building_style == 'A':\n",
    "            rectangle(site_x,site_y,building_height,'green', 200)\n",
    "        if building_style == 'B':\n",
    "            rectangle(site_x,site_y,building_height,'black', 150)\n",
    "        if building_style == 'C':\n",
    "            rectangle(site_x,site_y,building_height,'red',100)\n",
    "        if building_style == 'D':\n",
    "            rectangle(site_x,site_y,building_height,'blue', 50)\n",
    "\n",
    "create_drawing_canvas()\n",
    "\n",
    "\n",
    "speed('fastest')\n",
    "\n",
    "tracer(True)\n",
    "\n",
    "title(\"gg\")\n",
    "build_city(random_plan()) \n",
    "release_drawing_canvas()"
   ]
=======
   "execution_count": null,
   "metadata": {},
   "outputs": [],
   "source": []
>>>>>>> 7884b9ede21c6e8a65b8bcf916166c44a3856425
  },
  {
   "cell_type": "code",
   "execution_count": 29,
   "metadata": {},
   "outputs": [],
   "source": [
    "#classes\n",
    "class Person:\n",
    "    \n",
    "    def __init__(self, age, first_name, last_name, height, sex):\n",
    "        #dunder mthods are private - just for use in class\n",
    "        self.age = age\n",
    "        self.first_name = first_name\n",
    "        self.last_name = last_name\n",
    "        self.height = height\n",
    "        self.sex = sex\n",
    "        \n",
    "    def fullname(self):\n",
    "        return '{} {}'.format(self.first_name, self.last_name)\n",
    "\n",
    "\n",
    "        "
   ]
  },
  {
   "cell_type": "code",
<<<<<<< HEAD
   "execution_count": null,
   "metadata": {
    "collapsed": true
   },
   "outputs": [],
=======
   "execution_count": 30,
   "metadata": {},
   "outputs": [
    {
     "name": "stdout",
     "output_type": "stream",
     "text": [
      "Liam\n"
     ]
    }
   ],
>>>>>>> 7884b9ede21c6e8a65b8bcf916166c44a3856425
   "source": [
    "P1 = Person(35, 'Liam', 'McIntyre', 188, 'Male')\n",
    "P2 = Person(44, 'Bob', 'Jones', 133, 'Male')\n",
    "\n",
    "print (P1.first_name)"
   ]
  },
  {
   "cell_type": "code",
<<<<<<< HEAD
   "execution_count": null,
   "metadata": {
    "collapsed": true
   },
   "outputs": [],
=======
   "execution_count": 31,
   "metadata": {},
   "outputs": [
    {
     "name": "stdout",
     "output_type": "stream",
     "text": [
      "Liam McIntyre\n"
     ]
    }
   ],
>>>>>>> 7884b9ede21c6e8a65b8bcf916166c44a3856425
   "source": [
    "print (P1.fullname())"
   ]
  },
  {
   "cell_type": "code",
<<<<<<< HEAD
   "execution_count": null,
   "metadata": {
    "collapsed": true
   },
=======
   "execution_count": 32,
   "metadata": {},
>>>>>>> 7884b9ede21c6e8a65b8bcf916166c44a3856425
   "outputs": [],
   "source": [
    "#date time\n",
    "import datetime\n",
    "bday = datetime.datetime(1983, 6, 8, 15,37,22)"
   ]
  },
  {
   "cell_type": "code",
<<<<<<< HEAD
   "execution_count": null,
   "metadata": {
    "collapsed": true
   },
   "outputs": [],
=======
   "execution_count": 33,
   "metadata": {},
   "outputs": [
    {
     "name": "stdout",
     "output_type": "stream",
     "text": [
      "1983-06-08 15:37:22\n"
     ]
    }
   ],
>>>>>>> 7884b9ede21c6e8a65b8bcf916166c44a3856425
   "source": [
    "print(bday)"
   ]
  },
  {
   "cell_type": "code",
<<<<<<< HEAD
   "execution_count": null,
   "metadata": {
    "collapsed": true
   },
=======
   "execution_count": 34,
   "metadata": {},
>>>>>>> 7884b9ede21c6e8a65b8bcf916166c44a3856425
   "outputs": [],
   "source": [
    "#pandas\n",
    "import pandas as pd\n",
    "import datetime\n",
    "import pandas as pd\n",
    "import numpy as np\n",
    "\n",
    "todays_date = datetime.datetime.now().date()\n",
    "index = pd.date_range(todays_date-datetime.timedelta(10), periods=10, freq='D')\n",
    "\n",
    "columns = ['A','B', 'C']\n",
    "data = np.array([np.arange(10)]*3).T\n"
   ]
  },
  {
   "cell_type": "code",
<<<<<<< HEAD
   "execution_count": null,
   "metadata": {
    "collapsed": true
   },
   "outputs": [],
=======
   "execution_count": 35,
   "metadata": {},
   "outputs": [
    {
     "data": {
      "text/html": [
       "<div>\n",
       "<style scoped>\n",
       "    .dataframe tbody tr th:only-of-type {\n",
       "        vertical-align: middle;\n",
       "    }\n",
       "\n",
       "    .dataframe tbody tr th {\n",
       "        vertical-align: top;\n",
       "    }\n",
       "\n",
       "    .dataframe thead th {\n",
       "        text-align: right;\n",
       "    }\n",
       "</style>\n",
       "<table border=\"1\" class=\"dataframe\">\n",
       "  <thead>\n",
       "    <tr style=\"text-align: right;\">\n",
       "      <th></th>\n",
       "      <th>A</th>\n",
       "      <th>B</th>\n",
       "      <th>C</th>\n",
       "    </tr>\n",
       "  </thead>\n",
       "  <tbody>\n",
       "    <tr>\n",
       "      <th>2019-02-08</th>\n",
       "      <td>0</td>\n",
       "      <td>0</td>\n",
       "      <td>0</td>\n",
       "    </tr>\n",
       "    <tr>\n",
       "      <th>2019-02-09</th>\n",
       "      <td>1</td>\n",
       "      <td>1</td>\n",
       "      <td>1</td>\n",
       "    </tr>\n",
       "    <tr>\n",
       "      <th>2019-02-10</th>\n",
       "      <td>2</td>\n",
       "      <td>2</td>\n",
       "      <td>2</td>\n",
       "    </tr>\n",
       "    <tr>\n",
       "      <th>2019-02-11</th>\n",
       "      <td>3</td>\n",
       "      <td>3</td>\n",
       "      <td>3</td>\n",
       "    </tr>\n",
       "    <tr>\n",
       "      <th>2019-02-12</th>\n",
       "      <td>4</td>\n",
       "      <td>4</td>\n",
       "      <td>4</td>\n",
       "    </tr>\n",
       "    <tr>\n",
       "      <th>2019-02-13</th>\n",
       "      <td>5</td>\n",
       "      <td>5</td>\n",
       "      <td>5</td>\n",
       "    </tr>\n",
       "    <tr>\n",
       "      <th>2019-02-14</th>\n",
       "      <td>6</td>\n",
       "      <td>6</td>\n",
       "      <td>6</td>\n",
       "    </tr>\n",
       "    <tr>\n",
       "      <th>2019-02-15</th>\n",
       "      <td>7</td>\n",
       "      <td>7</td>\n",
       "      <td>7</td>\n",
       "    </tr>\n",
       "    <tr>\n",
       "      <th>2019-02-16</th>\n",
       "      <td>8</td>\n",
       "      <td>8</td>\n",
       "      <td>8</td>\n",
       "    </tr>\n",
       "    <tr>\n",
       "      <th>2019-02-17</th>\n",
       "      <td>9</td>\n",
       "      <td>9</td>\n",
       "      <td>9</td>\n",
       "    </tr>\n",
       "  </tbody>\n",
       "</table>\n",
       "</div>"
      ],
      "text/plain": [
       "            A  B  C\n",
       "2019-02-08  0  0  0\n",
       "2019-02-09  1  1  1\n",
       "2019-02-10  2  2  2\n",
       "2019-02-11  3  3  3\n",
       "2019-02-12  4  4  4\n",
       "2019-02-13  5  5  5\n",
       "2019-02-14  6  6  6\n",
       "2019-02-15  7  7  7\n",
       "2019-02-16  8  8  8\n",
       "2019-02-17  9  9  9"
      ]
     },
     "execution_count": 35,
     "metadata": {},
     "output_type": "execute_result"
    }
   ],
>>>>>>> 7884b9ede21c6e8a65b8bcf916166c44a3856425
   "source": [
    "df = pd.DataFrame(data, index=index, columns=columns)\n",
    "df"
   ]
  },
  {
   "cell_type": "code",
<<<<<<< HEAD
   "execution_count": null,
   "metadata": {
    "collapsed": true
   },
   "outputs": [],
=======
   "execution_count": 37,
   "metadata": {},
   "outputs": [
    {
     "data": {
      "text/plain": [
       "A    8\n",
       "B    8\n",
       "C    8\n",
       "Name: 2019-02-16 00:00:00, dtype: int64"
      ]
     },
     "execution_count": 37,
     "metadata": {},
     "output_type": "execute_result"
    }
   ],
>>>>>>> 7884b9ede21c6e8a65b8bcf916166c44a3856425
   "source": [
    "df.loc['2019-02-16']#get one row"
   ]
  },
  {
   "cell_type": "code",
<<<<<<< HEAD
   "execution_count": null,
   "metadata": {
    "collapsed": true
   },
   "outputs": [],
   "source": [
    "df.loc['2018-11-01':'2018-11-05']#get 2 rows"
=======
   "execution_count": 41,
   "metadata": {},
   "outputs": [
    {
     "data": {
      "text/html": [
       "<div>\n",
       "<style scoped>\n",
       "    .dataframe tbody tr th:only-of-type {\n",
       "        vertical-align: middle;\n",
       "    }\n",
       "\n",
       "    .dataframe tbody tr th {\n",
       "        vertical-align: top;\n",
       "    }\n",
       "\n",
       "    .dataframe thead th {\n",
       "        text-align: right;\n",
       "    }\n",
       "</style>\n",
       "<table border=\"1\" class=\"dataframe\">\n",
       "  <thead>\n",
       "    <tr style=\"text-align: right;\">\n",
       "      <th></th>\n",
       "      <th>A</th>\n",
       "      <th>B</th>\n",
       "      <th>C</th>\n",
       "    </tr>\n",
       "  </thead>\n",
       "  <tbody>\n",
       "    <tr>\n",
       "      <th>2019-02-15</th>\n",
       "      <td>7</td>\n",
       "      <td>7</td>\n",
       "      <td>7</td>\n",
       "    </tr>\n",
       "    <tr>\n",
       "      <th>2019-02-16</th>\n",
       "      <td>8</td>\n",
       "      <td>8</td>\n",
       "      <td>8</td>\n",
       "    </tr>\n",
       "  </tbody>\n",
       "</table>\n",
       "</div>"
      ],
      "text/plain": [
       "            A  B  C\n",
       "2019-02-15  7  7  7\n",
       "2019-02-16  8  8  8"
      ]
     },
     "execution_count": 41,
     "metadata": {},
     "output_type": "execute_result"
    }
   ],
   "source": [
    "df.loc['2019-02-15':'2019-02-16']#get 2 rows"
>>>>>>> 7884b9ede21c6e8a65b8bcf916166c44a3856425
   ]
  },
  {
   "cell_type": "code",
<<<<<<< HEAD
   "execution_count": null,
   "metadata": {
    "collapsed": true
   },
   "outputs": [],
=======
   "execution_count": 42,
   "metadata": {},
   "outputs": [
    {
     "data": {
      "text/plain": [
       "2019-02-15    7\n",
       "2019-02-16    8\n",
       "Freq: D, Name: A, dtype: int64"
      ]
     },
     "execution_count": 42,
     "metadata": {},
     "output_type": "execute_result"
    }
   ],
>>>>>>> 7884b9ede21c6e8a65b8bcf916166c44a3856425
   "source": [
    "df.loc['2019-02-15':'2019-02-16','A']#2 rows and a col"
   ]
  },
  {
   "cell_type": "code",
<<<<<<< HEAD
   "execution_count": null,
   "metadata": {
    "collapsed": true
   },
   "outputs": [],
=======
   "execution_count": 43,
   "metadata": {},
   "outputs": [
    {
     "data": {
      "text/html": [
       "<div>\n",
       "<style scoped>\n",
       "    .dataframe tbody tr th:only-of-type {\n",
       "        vertical-align: middle;\n",
       "    }\n",
       "\n",
       "    .dataframe tbody tr th {\n",
       "        vertical-align: top;\n",
       "    }\n",
       "\n",
       "    .dataframe thead th {\n",
       "        text-align: right;\n",
       "    }\n",
       "</style>\n",
       "<table border=\"1\" class=\"dataframe\">\n",
       "  <thead>\n",
       "    <tr style=\"text-align: right;\">\n",
       "      <th></th>\n",
       "      <th>A</th>\n",
       "      <th>B</th>\n",
       "    </tr>\n",
       "  </thead>\n",
       "  <tbody>\n",
       "    <tr>\n",
       "      <th>2019-02-15</th>\n",
       "      <td>7</td>\n",
       "      <td>7</td>\n",
       "    </tr>\n",
       "    <tr>\n",
       "      <th>2019-02-16</th>\n",
       "      <td>8</td>\n",
       "      <td>8</td>\n",
       "    </tr>\n",
       "  </tbody>\n",
       "</table>\n",
       "</div>"
      ],
      "text/plain": [
       "            A  B\n",
       "2019-02-15  7  7\n",
       "2019-02-16  8  8"
      ]
     },
     "execution_count": 43,
     "metadata": {},
     "output_type": "execute_result"
    }
   ],
>>>>>>> 7884b9ede21c6e8a65b8bcf916166c44a3856425
   "source": [
    "df.loc['2019-02-15':'2019-02-16',['A','B']]#2 rows 2 cols"
   ]
  },
  {
   "cell_type": "code",
   "execution_count": null,
   "metadata": {},
   "outputs": [],
   "source": []
  },
  {
   "cell_type": "code",
   "execution_count": null,
   "metadata": {
    "collapsed": true
   },
   "outputs": [],
   "source": []
  }
 ],
 "metadata": {
  "kernelspec": {
   "display_name": "Python 3",
   "language": "python",
   "name": "python3"
  },
  "language_info": {
   "codemirror_mode": {
    "name": "ipython",
    "version": 3
   },
   "file_extension": ".py",
   "mimetype": "text/x-python",
   "name": "python",
   "nbconvert_exporter": "python",
   "pygments_lexer": "ipython3",
   "version": "3.7.1"
  }
 },
 "nbformat": 4,
 "nbformat_minor": 2
}
