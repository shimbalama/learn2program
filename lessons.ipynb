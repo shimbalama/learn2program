{
 "cells": [
  {
   "cell_type": "markdown",
   "metadata": {},
   "source": [
    "# Lesson1: Types"
   ]
  },
  {
   "cell_type": "markdown",
   "metadata": {},
   "source": [
    "# Sentences (strings or str), numbers (ints/floats) and boolean (True/False)"
   ]
  },
  {
   "cell_type": "code",
   "execution_count": null,
   "metadata": {},
   "outputs": [],
   "source": []
  },
  {
   "cell_type": "code",
   "execution_count": null,
   "metadata": {},
   "outputs": [],
   "source": [
    "print ('Hello world'+' 2') # first program!\n",
    "\n",
    "#Please note anything after a hash (#) is a comment and will not be run\n",
    "# the rest is code\n"
   ]
  },
  {
   "cell_type": "code",
   "execution_count": null,
   "metadata": {
    "collapsed": true
   },
   "outputs": [],
   "source": [
    "#introduce every core part of python language briefly as intro examples with syntax - contents of whats coming"
   ]
  },
  {
   "cell_type": "code",
   "execution_count": null,
   "metadata": {},
   "outputs": [],
   "source": [
    "#int (integer)\n",
    "var =0\n",
    "1\n",
    "#float - has decimal place, uses more memory\n",
    "1.0\n",
    "var2='T'\n",
    "# use +, -, / and * for basic operations\n",
    "print ('1+1 = ',1+1,8,'6',var2, type(var2)) \n",
    "print ('2/3 = ', 2/3, round(2/3,2)) #converts int to float (in python 3 only)"
   ]
  },
  {
   "cell_type": "code",
   "execution_count": null,
   "metadata": {
    "collapsed": true
   },
   "outputs": [],
   "source": []
  },
  {
   "cell_type": "code",
   "execution_count": null,
   "metadata": {
    "collapsed": true
   },
   "outputs": [],
   "source": [
    "#What are some other mathematical things we can do?\n",
    "#hints +/-/x///log/square/round\n",
    "\n",
    "#Task - write 5 different mathematical lines of python"
   ]
  },
  {
   "cell_type": "markdown",
   "metadata": {},
   "source": [
    "# Go to game :)\n",
    "## Find 3 ints or floats - what do they do?\n",
    "## Change them! see what happens"
   ]
  },
  {
   "cell_type": "code",
   "execution_count": null,
   "metadata": {},
   "outputs": [],
   "source": [
    "#bool (Boolean - True or False)\n",
    "print ('1 = 1:', 1 < 12)\n",
    "a = True\n",
    "b = False\n",
    "print ('a:', type(a))\n"
   ]
  },
  {
   "cell_type": "code",
   "execution_count": null,
   "metadata": {
    "collapsed": true
   },
   "outputs": [],
   "source": [
    "#What else can we test with bools?\n",
    "\n",
    "#Task - write 2 different boolean lines of python"
   ]
  },
  {
   "cell_type": "markdown",
   "metadata": {},
   "source": [
    "# Go to game :)\n",
    "## Find a boolean expression - what does it do?\n",
    "## Can you change it?"
   ]
  },
  {
   "cell_type": "code",
   "execution_count": null,
   "metadata": {},
   "outputs": [],
   "source": [
    "#str (string) - anything between quation 'str' or \"str\"\n",
    "print ('string' == \"string\")\n",
    "\n",
    "# you can add str to str\n",
    "first_name = 'Liam'\n",
    "last_name = 'McIntyre'\n",
    "name = first_name + ' ' + last_name\n",
    "print ('name', name)\n",
    "print (name.upper())\n",
    "#You can't add strs and ints/floats\n",
    "#print ('name', name + 1)"
   ]
  },
  {
   "cell_type": "code",
   "execution_count": null,
   "metadata": {
    "collapsed": true
   },
   "outputs": [],
   "source": [
    "#Use tab or help (ignore anything with __ on either side) to see all the things you can do with strs\n",
    "#help(str)\n",
    "\n",
    "#Task - make a str and use all of the str functions on it"
   ]
  },
  {
   "cell_type": "markdown",
   "metadata": {},
   "source": [
    "# Go to game :)\n",
    "## Find 2 strs - what are they for?\n",
    "## Change them!"
   ]
  },
  {
   "cell_type": "markdown",
   "metadata": {},
   "source": [
    "# Set variables"
   ]
  },
  {
   "cell_type": "code",
   "execution_count": null,
   "metadata": {},
   "outputs": [],
   "source": [
    "x = 1 # Sets x to equal the int 1\n",
    "print (x)\n",
    "print (type(x))\n",
    "\n",
    "#can set any type to a variable name of your choosing"
   ]
  },
  {
   "cell_type": "code",
   "execution_count": null,
   "metadata": {},
   "outputs": [],
   "source": [
    "print (x == 1) #One equals setsa  variable, two tests to see if equal\n",
    "print (x * 3) #x is now an int so can be multiplied by ints"
   ]
  },
  {
   "cell_type": "code",
   "execution_count": null,
   "metadata": {
    "collapsed": true
   },
   "outputs": [],
   "source": [
    "#Task - set some variables of different types and add/join them together"
   ]
  },
  {
   "cell_type": "markdown",
   "metadata": {},
   "source": [
    "# Go to game :)\n",
    "## Find a var of each type - what are they for?\n",
    "## Change one to make the game you own"
   ]
  },
  {
   "cell_type": "markdown",
   "metadata": {},
   "source": [
    "# Lesson 2: Containers"
   ]
  },
  {
   "cell_type": "code",
   "execution_count": null,
   "metadata": {},
   "outputs": [],
   "source": [
    "#2do - add examles of why the trade of fmatters matters - example in game code\n",
    "# sets - doesn't maintain order, only unique elements and fast\n",
    "s1 = set([1,6,2,2,4,5])\n",
    "print ('s1', s1)\n",
    "\n",
    "# add to set \n",
    "s2 = set([]) #empty set = set([])\n",
    "s2.add(12) \n",
    "print ('s2', s2)\n",
    "\n",
    "# remove from set\n",
    "s1.discard(6)\n",
    "print ('updated s1', s1)\n",
    "list(s1)"
   ]
  },
  {
   "cell_type": "code",
   "execution_count": null,
   "metadata": {},
   "outputs": [],
   "source": [
    "# lists - ordered, slower and can have non unique elements\n",
    "l1 = [1,2,2,3,4,5]\n",
    "print ('l1', l1)\n",
    "\n",
    "# add to list\n",
    "l2 = [] #empty list = []\n",
    "l2.append(1) \n",
    "print ('l2', l2)\n",
    "\n",
    "# remove from list\n",
    "l1.pop() #removes last item by default\n",
    "print ('l1 after default pop(): ', l1)\n",
    "pop_var = l1.pop(0) #pop from zeroth index (first postion in list (computers count from 0))\n",
    "print ('l1 after default pop(0): ', l1)\n",
    "print (pop_var)"
   ]
  },
  {
   "cell_type": "code",
   "execution_count": null,
   "metadata": {},
   "outputs": [],
   "source": [
    "#learn how to explain hash lookup  - pretty picture of container structure with objects in it\n",
    "#dicts (dictionaries) known as hash or lookup tables in other languages\n",
    "d1 = {'1':1, 'b':2, 'c':3}\n",
    "print ('d1', d1)\n",
    "\n",
    "#here a, b and c are keys and 1, 2 and 3 are values\n",
    "# We can lookup a value with its key\n",
    "print ('Lookup the value of a:', d1.get('1'))\n",
    "\n",
    "# add to dict\n",
    "d1['new'] = 0\n",
    "print ('updated d1:', d1)\n",
    "\n",
    "#remove from dict\n",
    "del (d1['new'])\n",
    "print ('d1',  d1)"
   ]
  },
  {
   "cell_type": "code",
   "execution_count": null,
   "metadata": {},
   "outputs": [],
   "source": [
    "rain = [1,2,3]\n",
    "dates = ['march','june','july']\n",
    "print (list(zip(dates, rain)))\n",
    "dict_of_rain = dict(zip(dates, rain))\n",
    "print (dict_of_rain)\n",
    "print (dict_of_rain.get('june'))"
   ]
  },
  {
   "cell_type": "code",
   "execution_count": null,
   "metadata": {},
   "outputs": [],
   "source": [
    "from collections import defaultdict\n",
    "d=defaultdict(int)\n",
    "for rainfall in rain:\n",
    "    print (rainfall)\n",
    "    d['rain'] += rainfall\n",
    "    \n",
    "print (d.get('rain'))"
   ]
  },
  {
   "cell_type": "code",
   "execution_count": null,
   "metadata": {
    "collapsed": true
   },
   "outputs": [],
   "source": [
    "#tuples \n",
    "t1 = (1,2,3)\n",
    "print ('t1', t1)\n",
    "\n",
    "#tuples are immutable (can't be changed) so you can't add or remvoe elements\n",
    "# you can unpack them though\n",
    "a, b, c = t1\n",
    "print ('a, b, c :', a, b, c )"
   ]
  },
  {
   "cell_type": "code",
   "execution_count": null,
   "metadata": {
    "collapsed": true
   },
   "outputs": [],
   "source": [
    "#type conversion - you can tell python to set/change types explicity\n",
    "\n",
    "a = '1' #str\n",
    "print (a, type(a))\n",
    "a = int(a)\n",
    "print (a, type(a))"
   ]
  },
  {
   "cell_type": "markdown",
   "metadata": {},
   "source": [
    "# Thats MOST of the common types you need to build anything!"
   ]
  },
  {
   "cell_type": "markdown",
   "metadata": {},
   "source": [
    "# MUTABILITY OF COMMON TYPES"
   ]
  },
  {
   "cell_type": "raw",
   "metadata": {},
   "source": [
    "Immutable:\n",
    "\n",
    "int\n",
    "float\n",
    "decimal\n",
    "complex\n",
    "bool\n",
    "string\n",
    "tuple\n",
    "range\n",
    "frozenset\n",
    "bytes\n",
    "\n",
    "The following are some mutable objects:\n",
    "\n",
    "list\n",
    "dict\n",
    "set\n",
    "bytearray"
   ]
  },
  {
   "cell_type": "markdown",
   "metadata": {
    "collapsed": true
   },
   "source": [
    "# Lesson 3: Logic"
   ]
  },
  {
   "cell_type": "markdown",
   "metadata": {},
   "source": [
    "# Loops"
   ]
  },
  {
   "cell_type": "code",
   "execution_count": null,
   "metadata": {},
   "outputs": [],
   "source": [
    "#For loops\n",
    "\n",
    "for i in [1,2,3]:# Iterates over the list [1,2,3]. Each iteration prints the next int in the list\n",
    "    print ('i:',i)"
   ]
  },
  {
   "cell_type": "code",
   "execution_count": null,
   "metadata": {},
   "outputs": [],
   "source": [
    "#i is a variable, we could call it anything\n",
    "for anything in [1,2,3]:\n",
    "    print ('anything:',anything)"
   ]
  },
  {
   "cell_type": "code",
   "execution_count": null,
   "metadata": {},
   "outputs": [],
   "source": [
    "for index, i in enumerate([1,2,3]):# the enumerate function to shows the index, which starts at 0\n",
    "    print ('index:',index, 'i:',i)"
   ]
  },
  {
   "cell_type": "code",
   "execution_count": null,
   "metadata": {},
   "outputs": [],
   "source": []
  },
  {
   "cell_type": "code",
   "execution_count": null,
   "metadata": {
    "collapsed": true
   },
   "outputs": [],
   "source": [
    "# We can iterate over most things\n",
    "a_set_of_ints = set([5,6,2,6,7])\n",
    "for i in a_set_of_ints:\n",
    "    print ('i:', i)\n",
    "#Why are there only 4 i's? Why did the order change?"
   ]
  },
  {
   "cell_type": "code",
   "execution_count": null,
   "metadata": {
    "collapsed": true
   },
   "outputs": [],
   "source": [
    "# We can iterate over most things\n",
    "a_list_of_strs = ['5','6','2','6','7']\n",
    "for i in a_list_of_strs:\n",
    "    print ('i:', i)\n",
    "#Why no chnages this time?"
   ]
  },
  {
   "cell_type": "code",
   "execution_count": null,
   "metadata": {
    "collapsed": true
   },
   "outputs": [],
   "source": [
    "# We can iterate over most things\n",
    "a_str = '56267'\n",
    "for i in a_str:\n",
    "    print ('i:', i)"
   ]
  },
  {
   "cell_type": "code",
   "execution_count": null,
   "metadata": {
    "collapsed": true
   },
   "outputs": [],
   "source": [
    "# We can iterate over most things\n",
    "a_dict = {'a':1,'b':2,'c':3}\n",
    "for i in a_dict:\n",
    "    print ('i:', i)"
   ]
  },
  {
   "cell_type": "code",
   "execution_count": null,
   "metadata": {
    "collapsed": true
   },
   "outputs": [],
   "source": [
    "#where are the values?\n",
    "a_dict = {'a':1,'b':2,'c':3}\n",
    "for i in a_dict:\n",
    "    print ('i:', 'key:', i, 'value:', a_dict.get(i))"
   ]
  },
  {
   "cell_type": "code",
   "execution_count": null,
   "metadata": {
    "collapsed": true
   },
   "outputs": [],
   "source": [
    "# We can iterate over most things\n",
    "a_tuple = (1,'2','f')\n",
    "for i in a_tuple:\n",
    "    print ('i:', i)"
   ]
  },
  {
   "cell_type": "code",
   "execution_count": null,
   "metadata": {
    "collapsed": true
   },
   "outputs": [],
   "source": [
    "#What else can we iterate?"
   ]
  },
  {
   "cell_type": "code",
   "execution_count": null,
   "metadata": {
    "collapsed": true
   },
   "outputs": [],
   "source": [
    "#while loops\n",
    "x = 0\n",
    "while x < 4:#same as for loops but only end when a certain condition is met\n",
    "    print ('x:', x)\n",
    "    x += 1 #don't forget to increment the condition or you'll have an infinite loop!"
   ]
  },
  {
   "cell_type": "markdown",
   "metadata": {},
   "source": [
    "# if"
   ]
  },
  {
   "cell_type": "code",
   "execution_count": null,
   "metadata": {
    "collapsed": true
   },
   "outputs": [],
   "source": [
    "if 3 > 2:\n",
    "    print ('3 is greater than 2')"
   ]
  },
  {
   "cell_type": "code",
   "execution_count": 12,
   "metadata": {},
   "outputs": [
    {
     "name": "stdout",
     "output_type": "stream",
     "text": [
      "Case B: False - i == 1\n",
      "Case A: True - i == 1\n",
      "Case A: True - i == fred\n"
     ]
    }
   ],
   "source": [
    "a_tuple = (1, '1', 'fred')\n",
    "\n",
    "for i in a_tuple:\n",
    "    if i != 1:\n",
    "        print ('Case A:',i != 1, '- i ==', i)\n",
    "    else:\n",
    "        print ('Case B:', i != 1, '- i ==', i)"
   ]
  },
  {
   "cell_type": "code",
   "execution_count": 13,
   "metadata": {},
   "outputs": [
    {
     "name": "stdout",
     "output_type": "stream",
     "text": [
      "Case C: i == a\n",
      "Case B: i == _\n",
      "Case C: i == s\n",
      "Case C: i == t\n",
      "Case A: i == r\n"
     ]
    }
   ],
   "source": [
    "a_str = 'a_str'\n",
    "\n",
    "for i in a_str:# Iterate over a str and test two conditions, if they are not met else catches all\n",
    "    if i == 'r':\n",
    "        print ('Case A: i == r')\n",
    "    elif i == '_':\n",
    "        print ('Case B: i == _')\n",
    "    else:\n",
    "        print ('Case C: i ==', i)"
   ]
  },
  {
   "cell_type": "markdown",
   "metadata": {},
   "source": [
    "# indexing"
   ]
  },
  {
   "cell_type": "code",
   "execution_count": 14,
   "metadata": {},
   "outputs": [
    {
     "name": "stdout",
     "output_type": "stream",
     "text": [
      "0th position of a_str: a\n"
     ]
    }
   ],
   "source": [
    "#get the ith position of an object or container\n",
    "a_str = 'a_str'\n",
    "print ('0th position of a_str:', a_str[0])"
   ]
  },
  {
   "cell_type": "code",
   "execution_count": null,
   "metadata": {
    "collapsed": true
   },
   "outputs": [],
   "source": [
    "print ('first postion of a_str:', a_str[1])#word better\n",
    "print ('4th postion of a_str:', a_str[4])"
   ]
  },
  {
   "cell_type": "code",
   "execution_count": null,
   "metadata": {
    "collapsed": true
   },
   "outputs": [],
   "source": [
    "print ('first 2 postions of a_str:', a_str[:2])# use [:] to take chunks\n",
    "print ('last 2 postions of a_str:', a_str[3:])\n",
    "print ('last 2 postions of a_str:', a_str[-2:])#use - to count from the end"
   ]
  },
  {
   "cell_type": "code",
   "execution_count": null,
   "metadata": {
    "collapsed": true
   },
   "outputs": [],
   "source": [
    "a_list = [1,2,3,4,5,6,7,8]\n",
    "print ('every 2nd position of a list:', a_list[::2])#use [::i] to take every ith position\n",
    "print ('every 3rd position of a list, reversed:', a_list[::-3])#use [::-n] to take every nth position in reverse"
   ]
  },
  {
   "cell_type": "code",
   "execution_count": null,
   "metadata": {
    "collapsed": true
   },
   "outputs": [],
   "source": [
    "##lesson 4\n",
    "#functions"
   ]
  },
  {
   "cell_type": "code",
   "execution_count": null,
   "metadata": {
    "collapsed": true
   },
   "outputs": [],
   "source": [
    "def print_x(x):\n",
    "    print (x)\n",
    "print_x('x')"
   ]
  },
  {
   "cell_type": "code",
   "execution_count": null,
   "metadata": {
    "collapsed": true
   },
   "outputs": [],
   "source": [
    "from turtle import *\n",
    "setheading(90) # face north\n",
    "forward(55)\n",
    "left(90)\n",
    "forward(44)\n",
    "left(90)\n",
    "forward(55)\n",
    "left(90)\n",
    "forward(44)\n",
    "left(90)\n",
    "done()"
   ]
  },
  {
   "cell_type": "code",
   "execution_count": null,
   "metadata": {
    "collapsed": true
   },
   "outputs": [],
   "source": [
    "from turtle import *\n",
    "from math import *\n",
    "\n",
    "canvas_height = 700 # pixels\n",
    "canvas_width = 1100 # pixels\n",
    "grass_depth = 95 # vertical depth of the \"grass\", in pixels\n",
    "half_width = canvas_width // 2 # maximum x coordinate in either direction\n",
    "grid_font = ('Arial', 10, 'normal') # font for drawing the grid\n",
    "grid_size = 50 # gradations for the x and y scales shown on the screen\n",
    "offset = 5 # offset of the x-y coordinates from the screen's edge, in pixels\n",
    "max_height = canvas_height - grass_depth # maximum positive y coordinate\n",
    "max_building_height = 575 # city ordinance maximum building height\n",
    "site_width = 240 # maximum width of a building site\n",
    "\n",
    "sites = [['Site 1', [-225, 0]],\n",
    "         ['Site 2', [25, 0]],\n",
    "         ['Site 3', [275, 0]],\n",
    "         ['Site 4', [-375, -25]],\n",
    "         ['Site 5', [-125, -25]],\n",
    "         ['Site 6', [125, -25]],\n",
    "         ['Site 7', [375, -25]],\n",
    "         ['Site 8', [-275, -50]],\n",
    "         ['Site 9', [-25, -50]],\n",
    "         ['Site 10', [225, -50]]]\n",
    "def create_drawing_canvas(show_grid = True):\n",
    "\n",
    "    # Set up the drawing canvas with coordinate (0, 0) in the\n",
    "    # \"grass\" area\n",
    "    setup(canvas_width, canvas_height)\n",
    "    setworldcoordinates(-half_width, -grass_depth, half_width, max_height)\n",
    "\n",
    "    # Draw as fast as possible\n",
    "    tracer(False)\n",
    "\n",
    "    # Make the sky blue\n",
    "    bgcolor('sky blue')\n",
    "\n",
    "    # Draw the \"grass\" as a big green rectangle (overlapping the\n",
    "    # edge of the drawing canvas slightly)\n",
    "    overlap = 25 # pixels\n",
    "    penup()\n",
    "    goto(-(half_width + overlap), -(grass_depth + overlap)) # bottom-left\n",
    "    fillcolor('pale green')\n",
    "    begin_fill()\n",
    "    setheading(90) # face north\n",
    "    forward(grass_depth + overlap * 2)\n",
    "    right(90) # face east\n",
    "    forward(canvas_width + overlap * 2)\n",
    "    right(90) # face south\n",
    "    forward(grass_depth + overlap * 2)\n",
    "    end_fill()\n",
    "\n",
    "    # Draw a nice warm sun peeking into the image at the top left\n",
    "    penup()\n",
    "    goto(-canvas_width // 3, canvas_height - grass_depth)\n",
    "    pencolor('yellow')\n",
    "    dot(350)\n",
    "\n",
    "    # Draw a big fluffy white cloud in the sky\n",
    "    goto(canvas_width // 4, canvas_height - grass_depth - 100)\n",
    "    pencolor('white')\n",
    "    dot(200)\n",
    "    setheading(200)\n",
    "    forward(100)\n",
    "    dot(180)\n",
    "    setheading(0)\n",
    "    forward(200)\n",
    "    dot(160)\n",
    "\n",
    "    # Optionally draw x coordinates along the bottom of the\n",
    "    pencolor('black')\n",
    "    if show_grid:\n",
    "        for x_coord in range(-half_width + grid_size, half_width, grid_size):\n",
    "            goto(x_coord, -grass_depth + offset)\n",
    "            write('| ' + str(x_coord), font = grid_font)\n",
    "\n",
    "    # Optionally draw y coordinates on the left-hand edge of\n",
    "    if show_grid:\n",
    "        for y_coord in range(-grid_size, max_height, grid_size):\n",
    "            goto(-half_width + offset, y_coord - offset)\n",
    "            write(y_coord, font = grid_font)\n",
    "        goto(-half_width + offset, max_building_height - 5)\n",
    "        write('Maximum allowed building height', font = grid_font)\n",
    "\n",
    "    # Optionally mark each of the building sites approved by\n",
    "    if show_grid:\n",
    "        for site_name, location in sites:\n",
    "            goto(location)\n",
    "            dot(5)\n",
    "            goto(location[0] - (site_width // 2), location[1])\n",
    "            setheading(0)\n",
    "            pendown()\n",
    "            forward(site_width)\n",
    "            penup()\n",
    "            goto(location[0] - 40, location[1] - 17)\n",
    "            write(site_name + ': ' + str(location), font = grid_font)\n",
    "     \n",
    "    pencolor('black')\n",
    "    width(1)\n",
    "    penup()\n",
    "    home()\n",
    "    tracer(True)\n",
    "\n",
    "\n",
    "def release_drawing_canvas(hide_cursor = True):\n",
    "    tracer(True) # ensure any drawing in progress is displayed\n",
    "    if hide_cursor:\n",
    "        hideturtle()\n",
    "    done()\n",
    "def random_plan(print_plan = True):\n",
    "    building_probability = 70 # percent\n",
    "    option_probability = 20 # percent\n",
    "    from random import randint, choice\n",
    "    # Create a random list of building instructions\n",
    "    city_plan = []\n",
    "    for site in range(1, len(sites) + 1): # consider each building site\n",
    "        if randint(1, 100) <= building_probability: # decide whether to build here\n",
    "            style = choice(['A', 'B', 'C', 'D']) # choose building style\n",
    "            num_floors = randint(1, 10) # choose number of floors\n",
    "            if randint(1, 100) <= option_probability: # decide on option's value\n",
    "                option = 'X'\n",
    "            else:\n",
    "                option = 'O'\n",
    "            city_plan.append([site, style, num_floors, option])\n",
    "    # Optionally print the result to the shell window\n",
    "    if print_plan:\n",
    "        print('\\nBuildings to be constructed from random_plan\\n' +\n",
    "              '(site, style, no. floors, option):\\n\\n',\n",
    "              str(city_plan).replace('],', '],\\n '))\n",
    "    # Return the result to the student's build_city function\n",
    "    return city_plan\n",
    "\n",
    "\n",
    "def rectangle(site_x,site_y,building_height,colour, width):\n",
    "\n",
    "    goto(site_x+110,site_y)\n",
    "    fillcolor(colour)\n",
    "    begin_fill()\n",
    "    setheading(90) # face north\n",
    "    forward(building_height*55)\n",
    "    left(90)\n",
    "    forward(width)\n",
    "    left(90)\n",
    "    forward(building_height*55)\n",
    "    left(90)\n",
    "    forward(width)\n",
    "    left(90)\n",
    "    end_fill()\n",
    "\n",
    "def build_city(plan):\n",
    "\n",
    "    for building in plan:\n",
    "        building_site = building[0]\n",
    "        building_style = building[1]\n",
    "        building_height = building[2]\n",
    "        site = sites[building_site-1]\n",
    "        site_x = site[1][0]\n",
    "        site_y = site[1][1]\n",
    "        if building_style == 'A':\n",
    "            rectangle(site_x,site_y,building_height,'green', 200)\n",
    "        if building_style == 'B':\n",
    "            rectangle(site_x,site_y,building_height,'black', 150)\n",
    "        if building_style == 'C':\n",
    "            rectangle(site_x,site_y,building_height,'red',100)\n",
    "        if building_style == 'D':\n",
    "            rectangle(site_x,site_y,building_height,'blue', 50)\n",
    "\n",
    "create_drawing_canvas()\n",
    "\n",
    "\n",
    "speed('fastest')\n",
    "\n",
    "tracer(True)\n",
    "\n",
    "title(\"gg\")\n",
    "build_city(random_plan()) \n",
    "release_drawing_canvas()"
   ]
  },
  {
   "cell_type": "code",
   "execution_count": null,
   "metadata": {
    "collapsed": true
   },
   "outputs": [],
   "source": [
    "#classes\n",
    "class Person:\n",
    "    \n",
    "    def __init__(self, age, first_name, last_name, height, sex):\n",
    "        #dunder mthods are private - just for use in class\n",
    "        self.age = age\n",
    "        self.first_name = first_name\n",
    "        self.last_name = last_name\n",
    "        self.height = height\n",
    "        self.sex = sex\n",
    "        \n",
    "    def fullname(self):\n",
    "        return '{} {}'.format(self.first_name, self.last_name)\n",
    "\n",
    "\n",
    "        "
   ]
  },
  {
   "cell_type": "code",
   "execution_count": null,
   "metadata": {},
   "outputs": [],
   "source": [
    "P1 = Person(35, 'Liam', 'McIntyre', 188, 'Male')\n",
    "P2 = Person(44, 'Bob', 'Jones', 133, 'Male')\n",
    "\n",
    "print (P1.first_name)"
   ]
  },
  {
   "cell_type": "code",
   "execution_count": null,
   "metadata": {},
   "outputs": [],
   "source": [
    "print (P1.fullname())"
   ]
  },
  {
   "cell_type": "code",
   "execution_count": 15,
   "metadata": {
    "collapsed": true
   },
   "outputs": [],
   "source": [
    "#date time\n",
    "import datetime\n",
    "bday = datetime.datetime(1983, 6, 8, 15,37,22)"
   ]
  },
  {
   "cell_type": "code",
   "execution_count": 17,
   "metadata": {},
   "outputs": [
    {
     "name": "stdout",
     "output_type": "stream",
     "text": [
      "1983-06-08 15:37:22\n"
     ]
    }
   ],
   "source": [
    "print(bday)"
   ]
  },
  {
   "cell_type": "code",
   "execution_count": 28,
   "metadata": {
    "collapsed": true
   },
   "outputs": [],
   "source": [
    "#pandas\n",
    "import pandas as pd\n",
    "import datetime\n",
    "import pandas as pd\n",
    "import numpy as np\n",
    "\n",
    "todays_date = datetime.datetime.now().date()\n",
    "index = pd.date_range(todays_date-datetime.timedelta(10), periods=10, freq='D')\n",
    "\n",
    "columns = ['A','B', 'C']\n",
    "data = np.array([np.arange(10)]*3).T\n"
   ]
  },
  {
   "cell_type": "code",
   "execution_count": 29,
   "metadata": {},
   "outputs": [
    {
     "data": {
      "text/html": [
       "<div>\n",
       "<style>\n",
       "    .dataframe thead tr:only-child th {\n",
       "        text-align: right;\n",
       "    }\n",
       "\n",
       "    .dataframe thead th {\n",
       "        text-align: left;\n",
       "    }\n",
       "\n",
       "    .dataframe tbody tr th {\n",
       "        vertical-align: top;\n",
       "    }\n",
       "</style>\n",
       "<table border=\"1\" class=\"dataframe\">\n",
       "  <thead>\n",
       "    <tr style=\"text-align: right;\">\n",
       "      <th></th>\n",
       "      <th>A</th>\n",
       "      <th>B</th>\n",
       "      <th>C</th>\n",
       "    </tr>\n",
       "  </thead>\n",
       "  <tbody>\n",
       "    <tr>\n",
       "      <th>2018-10-27</th>\n",
       "      <td>0</td>\n",
       "      <td>0</td>\n",
       "      <td>0</td>\n",
       "    </tr>\n",
       "    <tr>\n",
       "      <th>2018-10-28</th>\n",
       "      <td>1</td>\n",
       "      <td>1</td>\n",
       "      <td>1</td>\n",
       "    </tr>\n",
       "    <tr>\n",
       "      <th>2018-10-29</th>\n",
       "      <td>2</td>\n",
       "      <td>2</td>\n",
       "      <td>2</td>\n",
       "    </tr>\n",
       "    <tr>\n",
       "      <th>2018-10-30</th>\n",
       "      <td>3</td>\n",
       "      <td>3</td>\n",
       "      <td>3</td>\n",
       "    </tr>\n",
       "    <tr>\n",
       "      <th>2018-10-31</th>\n",
       "      <td>4</td>\n",
       "      <td>4</td>\n",
       "      <td>4</td>\n",
       "    </tr>\n",
       "    <tr>\n",
       "      <th>2018-11-01</th>\n",
       "      <td>5</td>\n",
       "      <td>5</td>\n",
       "      <td>5</td>\n",
       "    </tr>\n",
       "    <tr>\n",
       "      <th>2018-11-02</th>\n",
       "      <td>6</td>\n",
       "      <td>6</td>\n",
       "      <td>6</td>\n",
       "    </tr>\n",
       "    <tr>\n",
       "      <th>2018-11-03</th>\n",
       "      <td>7</td>\n",
       "      <td>7</td>\n",
       "      <td>7</td>\n",
       "    </tr>\n",
       "    <tr>\n",
       "      <th>2018-11-04</th>\n",
       "      <td>8</td>\n",
       "      <td>8</td>\n",
       "      <td>8</td>\n",
       "    </tr>\n",
       "    <tr>\n",
       "      <th>2018-11-05</th>\n",
       "      <td>9</td>\n",
       "      <td>9</td>\n",
       "      <td>9</td>\n",
       "    </tr>\n",
       "  </tbody>\n",
       "</table>\n",
       "</div>"
      ],
      "text/plain": [
       "            A  B  C\n",
       "2018-10-27  0  0  0\n",
       "2018-10-28  1  1  1\n",
       "2018-10-29  2  2  2\n",
       "2018-10-30  3  3  3\n",
       "2018-10-31  4  4  4\n",
       "2018-11-01  5  5  5\n",
       "2018-11-02  6  6  6\n",
       "2018-11-03  7  7  7\n",
       "2018-11-04  8  8  8\n",
       "2018-11-05  9  9  9"
      ]
     },
     "execution_count": 29,
     "metadata": {},
     "output_type": "execute_result"
    }
   ],
   "source": [
    "df = pd.DataFrame(data, index=index, columns=columns)\n",
    "df"
   ]
  },
  {
   "cell_type": "code",
   "execution_count": 30,
   "metadata": {},
   "outputs": [
    {
     "data": {
      "text/plain": [
       "A    7\n",
       "B    7\n",
       "C    7\n",
       "Name: 2018-11-03 00:00:00, dtype: int64"
      ]
     },
     "execution_count": 30,
     "metadata": {},
     "output_type": "execute_result"
    }
   ],
   "source": [
    "df.loc['2018-11-03']#get one row"
   ]
  },
  {
   "cell_type": "code",
   "execution_count": 31,
   "metadata": {},
   "outputs": [
    {
     "data": {
      "text/html": [
       "<div>\n",
       "<style>\n",
       "    .dataframe thead tr:only-child th {\n",
       "        text-align: right;\n",
       "    }\n",
       "\n",
       "    .dataframe thead th {\n",
       "        text-align: left;\n",
       "    }\n",
       "\n",
       "    .dataframe tbody tr th {\n",
       "        vertical-align: top;\n",
       "    }\n",
       "</style>\n",
       "<table border=\"1\" class=\"dataframe\">\n",
       "  <thead>\n",
       "    <tr style=\"text-align: right;\">\n",
       "      <th></th>\n",
       "      <th>A</th>\n",
       "      <th>B</th>\n",
       "      <th>C</th>\n",
       "    </tr>\n",
       "  </thead>\n",
       "  <tbody>\n",
       "  </tbody>\n",
       "</table>\n",
       "</div>"
      ],
      "text/plain": [
       "Empty DataFrame\n",
       "Columns: [A, B, C]\n",
       "Index: []"
      ]
     },
     "execution_count": 31,
     "metadata": {},
     "output_type": "execute_result"
    }
   ],
   "source": [
    "df.loc['2018-06-16':'2018-06-17']#get 2 rows"
   ]
  },
  {
   "cell_type": "code",
   "execution_count": 32,
   "metadata": {},
   "outputs": [
    {
     "data": {
      "text/plain": [
       "Series([], Freq: D, Name: A, dtype: int64)"
      ]
     },
     "execution_count": 32,
     "metadata": {},
     "output_type": "execute_result"
    }
   ],
   "source": [
    "df.loc['2018-06-16':'2018-06-17','A']#2 rows and a col"
   ]
  },
  {
   "cell_type": "code",
   "execution_count": 33,
   "metadata": {},
   "outputs": [
    {
     "data": {
      "text/html": [
       "<div>\n",
       "<style>\n",
       "    .dataframe thead tr:only-child th {\n",
       "        text-align: right;\n",
       "    }\n",
       "\n",
       "    .dataframe thead th {\n",
       "        text-align: left;\n",
       "    }\n",
       "\n",
       "    .dataframe tbody tr th {\n",
       "        vertical-align: top;\n",
       "    }\n",
       "</style>\n",
       "<table border=\"1\" class=\"dataframe\">\n",
       "  <thead>\n",
       "    <tr style=\"text-align: right;\">\n",
       "      <th></th>\n",
       "      <th>A</th>\n",
       "      <th>B</th>\n",
       "    </tr>\n",
       "  </thead>\n",
       "  <tbody>\n",
       "  </tbody>\n",
       "</table>\n",
       "</div>"
      ],
      "text/plain": [
       "Empty DataFrame\n",
       "Columns: [A, B]\n",
       "Index: []"
      ]
     },
     "execution_count": 33,
     "metadata": {},
     "output_type": "execute_result"
    }
   ],
   "source": [
    "df.loc['2018-06-16':'2018-06-17',['A','B']]#2 rows 2 cols"
   ]
  },
  {
   "cell_type": "code",
   "execution_count": null,
   "metadata": {
    "collapsed": true
   },
   "outputs": [],
   "source": []
  },
  {
   "cell_type": "code",
   "execution_count": null,
   "metadata": {
    "collapsed": true
   },
   "outputs": [],
   "source": []
  }
 ],
 "metadata": {
  "kernelspec": {
   "display_name": "Python 3",
   "language": "python",
   "name": "python3"
  },
  "language_info": {
   "codemirror_mode": {
    "name": "ipython",
    "version": 3
   },
   "file_extension": ".py",
   "mimetype": "text/x-python",
   "name": "python",
   "nbconvert_exporter": "python",
   "pygments_lexer": "ipython3",
   "version": "3.6.2"
  }
 },
 "nbformat": 4,
 "nbformat_minor": 2
}
