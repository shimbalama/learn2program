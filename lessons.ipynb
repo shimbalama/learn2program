{
 "cells": [
  {
   "cell_type": "markdown",
   "metadata": {},
   "source": [
    "# Lesson1: Types"
   ]
  },
  {
   "cell_type": "markdown",
   "metadata": {},
   "source": [
    "# Sentences (strings or str), numbers (ints/floats) and boolean (True/False)"
   ]
  },
  {
   "cell_type": "code",
   "execution_count": 1,
   "metadata": {},
   "outputs": [
    {
     "name": "stdout",
     "output_type": "stream",
     "text": [
      "Hello world\n"
     ]
    }
   ],
   "source": [
    "print ('Hello world') # first program!\n",
    "\n",
    "#Please note anything after a hash (#) is a comment and will not be run\n",
    "# the rest is code\n"
   ]
  },
  {
   "cell_type": "code",
   "execution_count": 2,
   "metadata": {
    "collapsed": true
   },
   "outputs": [],
   "source": [
    "#introduce every core part of python language briefly as intro examples with syntax - contents of whats coming"
   ]
  },
  {
   "cell_type": "code",
   "execution_count": 3,
   "metadata": {},
   "outputs": [
    {
     "name": "stdout",
     "output_type": "stream",
     "text": [
      "1+1 =  2\n",
      "2/3 =  0.6666666666666666 0.67\n"
     ]
    }
   ],
   "source": [
    "#int (integer)\n",
    "int\n",
    "1\n",
    "#float - has decimal place, uses more memory\n",
    "1.0\n",
    "\n",
    "# use +, -, / and * for basic operations\n",
    "print ('1+1 = ', 1+1) \n",
    "print ('2/3 = ', 2/3, round(2/3,2)) #converts int to float (in python 3 only)"
   ]
  },
  {
   "cell_type": "code",
   "execution_count": 4,
   "metadata": {
    "collapsed": true
   },
   "outputs": [],
   "source": [
    "#What are some other mathematical things we can do?\n",
    "#hints +/-/x///log/square/round\n",
    "\n",
    "#Task - write 5 different mathematical lines of python"
   ]
  },
  {
   "cell_type": "markdown",
   "metadata": {},
   "source": [
    "# Go to game :)\n",
    "## Find 3 ints or floats - what do they do?\n",
    "## Change them! see what happens"
   ]
  },
  {
   "cell_type": "code",
   "execution_count": 5,
   "metadata": {},
   "outputs": [
    {
     "name": "stdout",
     "output_type": "stream",
     "text": [
      "1 = 1: True\n",
      "a: True\n"
     ]
    }
   ],
   "source": [
    "#bool (Boolean - True or False)\n",
    "print ('1 = 1:', 1 == 1)\n",
    "a = True\n",
    "b = False\n",
    "print ('a:', a)\n"
   ]
  },
  {
   "cell_type": "code",
   "execution_count": 6,
   "metadata": {
    "collapsed": true
   },
   "outputs": [],
   "source": [
    "#What else can we test with bools?\n",
    "\n",
    "#Task - write 2 different boolean lines of python"
   ]
  },
  {
   "cell_type": "markdown",
   "metadata": {},
   "source": [
    "# Go to game :)\n",
    "## Find a boolean expression - what does it do?\n",
    "## Can you change it?"
   ]
  },
  {
   "cell_type": "code",
   "execution_count": 7,
   "metadata": {},
   "outputs": [
    {
     "name": "stdout",
     "output_type": "stream",
     "text": [
      "True\n",
      "name Liam McIntyre\n",
      "LIAM MCINTYRE\n"
     ]
    }
   ],
   "source": [
    "#str (string) - anything between quation 'str' or \"str\"\n",
    "print ('string' == \"string\")\n",
    "\n",
    "# you can add str to str\n",
    "first_name = 'Liam'\n",
    "last_name = 'McIntyre'\n",
    "name = first_name + ' ' + last_name\n",
    "print ('name', name)\n",
    "print (name.upper())\n",
    "#You can't add strs and ints/floats\n",
    "#print ('name', name + 1)"
   ]
  },
  {
   "cell_type": "code",
   "execution_count": 9,
   "metadata": {},
   "outputs": [],
   "source": [
    "#Use tab or help (ignore anything with __ on either side) to see all the things you can do with strs\n",
    "#help(str)\n",
    "\n",
    "#Task - make a str and use all of the str functions on it"
   ]
  },
  {
   "cell_type": "markdown",
   "metadata": {},
   "source": [
    "# Go to game :)\n",
    "## Find 2 strs - what are they for?\n",
    "## Change them!"
   ]
  },
  {
   "cell_type": "markdown",
   "metadata": {},
   "source": [
    "# Set variables"
   ]
  },
  {
   "cell_type": "code",
   "execution_count": 30,
   "metadata": {},
   "outputs": [
    {
     "name": "stdout",
     "output_type": "stream",
     "text": [
      "1\n",
      "<class 'int'>\n"
     ]
    }
   ],
   "source": [
    "x = 1 # Sets x to equal the int 1\n",
    "print (x)\n",
    "print (type(x))\n",
    "\n",
    "#can set any type to a variable name of your choosing"
   ]
  },
  {
   "cell_type": "code",
   "execution_count": 39,
   "metadata": {},
   "outputs": [
    {
     "name": "stdout",
     "output_type": "stream",
     "text": [
      "True\n",
      "0.3333333333333333\n"
     ]
    }
   ],
   "source": [
    "print (x == 1) #One equals setsa  variable, two tests to see if equal\n",
    "print (x * 3) #x is now an int so can be multiplied by ints"
   ]
  },
  {
   "cell_type": "code",
   "execution_count": null,
   "metadata": {
    "collapsed": true
   },
   "outputs": [],
   "source": [
    "#Task - set some variables of different types and add/join them together"
   ]
  },
  {
   "cell_type": "markdown",
   "metadata": {},
   "source": [
    "# Go to game :)\n",
    "## Find a var of each type - what are they for?\n",
    "## Change one to make the game you own"
   ]
  },
  {
   "cell_type": "markdown",
   "metadata": {},
   "source": [
    "# Lesson 2: Containers"
   ]
  },
  {
   "cell_type": "code",
   "execution_count": 51,
   "metadata": {},
   "outputs": [
    {
     "name": "stdout",
     "output_type": "stream",
     "text": [
      "s1 {1, 2, 4, 5, 6}\n",
      "s2 {1}\n",
      "updated s1 {1, 2, 4, 5}\n"
     ]
    }
   ],
   "source": [
    "#2do - add examles of why the trade of fmatters matters - example in game code\n",
    "# sets - doesn't maintain order, only unique elements and fast\n",
    "s1 = set([1,6,2,2,4,5])\n",
    "print ('s1', s1)\n",
    "\n",
    "# add to set \n",
    "s2 = set([]) #empty set = set([])\n",
    "s2.add(1) \n",
    "print ('s2', s2)\n",
    "\n",
    "# remove from set\n",
    "s1.discard(6)\n",
    "print ('updated s1', s1)\n"
   ]
  },
  {
   "cell_type": "code",
   "execution_count": 54,
   "metadata": {},
   "outputs": [
    {
     "name": "stdout",
     "output_type": "stream",
     "text": [
      "l1 [1, 2, 2, 3, 4, 5]\n",
      "l2 [1]\n",
      "l1 after default pop():  [1, 2, 2, 3, 4]\n",
      "l1 after default pop(0):  [2, 2, 3, 4]\n"
     ]
    }
   ],
   "source": [
    "# lists - ordered, slower and can have non unique elements\n",
    "l1 = [1,2,2,3,4,5]\n",
    "print ('l1', l1)\n",
    "\n",
    "# add to list\n",
    "l2 = [] #empty list = []\n",
    "l2.append(1) \n",
    "print ('l2', l2)\n",
    "\n",
    "# remove from list\n",
    "l1.pop() #removes last item by default\n",
    "print ('l1 after default pop(): ', l1)\n",
    "l1.pop(0) #pop from zeroth index (first postion in list (computers count from 0))\n",
    "print ('l1 after default pop(0): ', l1)\n"
   ]
  },
  {
   "cell_type": "code",
   "execution_count": 55,
   "metadata": {},
   "outputs": [
    {
     "name": "stdout",
     "output_type": "stream",
     "text": [
      "d1 {'a': 1, 'b': 2, 'c': 3}\n",
      "Lookup the value of a: 1\n",
      "updated d1: {'a': 1, 'b': 2, 'c': 3, 'new': 0}\n",
      "d1 {'a': 1, 'b': 2, 'c': 3}\n"
     ]
    }
   ],
   "source": [
    "#learn how to explain hash lookup  - pretty picture of container structure with objects in it\n",
    "#dicts (dictionaries) known as hash or lookup tables in other languages\n",
    "d1 = {'a':1, 'b':2, 'c':3}\n",
    "print ('d1', d1)\n",
    "\n",
    "#here a, b and c are keys and 1, 2 and 3 are values\n",
    "# We can lookup a value with its key\n",
    "print ('Lookup the value of a:', d1.get('a'))\n",
    "\n",
    "# add to dict\n",
    "d1['new'] = 0\n",
    "print ('updated d1:', d1)\n",
    "\n",
    "#remove from dict\n",
    "del (d1['new'])\n",
    "print ('d1',  d1)"
   ]
  },
  {
   "cell_type": "code",
   "execution_count": 56,
   "metadata": {},
   "outputs": [
    {
     "name": "stdout",
     "output_type": "stream",
     "text": [
      "t1 (1, 2, 3)\n",
      "a, b, c : 1 2 3\n"
     ]
    }
   ],
   "source": [
    "#tuples \n",
    "t1 = (1,2,3)\n",
    "print ('t1', t1)\n",
    "\n",
    "#tuples are immutable (can't be changed) so you can't add or remvoe elements\n",
    "# you can unpack them though\n",
    "a, b, c = t1\n",
    "print ('a, b, c :', a, b, c )"
   ]
  },
  {
   "cell_type": "code",
   "execution_count": 57,
   "metadata": {},
   "outputs": [
    {
     "name": "stdout",
     "output_type": "stream",
     "text": [
      "1 <class 'str'>\n",
      "1 <class 'int'>\n"
     ]
    }
   ],
   "source": [
    "#type conversion - you can tell python to set/change types explicity\n",
    "\n",
    "a = '1' #str\n",
    "print (a, type(a))\n",
    "a = int(a)\n",
    "print (a, type(a))"
   ]
  },
  {
   "cell_type": "markdown",
   "metadata": {},
   "source": [
    "# Thats MOST of the common types you need to build anything!"
   ]
  },
  {
   "cell_type": "markdown",
   "metadata": {},
   "source": [
    "# MUTABILITY OF COMMON TYPES"
   ]
  },
  {
   "cell_type": "raw",
   "metadata": {},
   "source": [
    "Immutable:\n",
    "\n",
    "int\n",
    "float\n",
    "decimal\n",
    "complex\n",
    "bool\n",
    "string\n",
    "tuple\n",
    "range\n",
    "frozenset\n",
    "bytes\n",
    "\n",
    "The following are some mutable objects:\n",
    "\n",
    "list\n",
    "dict\n",
    "set\n",
    "bytearray"
   ]
  },
  {
   "cell_type": "markdown",
   "metadata": {
    "collapsed": true
   },
   "source": [
    "# Lesson 3: Logic"
   ]
  },
  {
   "cell_type": "markdown",
   "metadata": {},
   "source": [
    "# Loops"
   ]
  },
  {
   "cell_type": "code",
   "execution_count": 58,
   "metadata": {},
   "outputs": [
    {
     "name": "stdout",
     "output_type": "stream",
     "text": [
      "i: 1\n",
      "i: 2\n",
      "i: 3\n"
     ]
    }
   ],
   "source": [
    "#For loops\n",
    "\n",
    "for i in [1,2,3]:# Iterates over the list [1,2,3]. Each iteration prints the next int in the list\n",
    "    print ('i:',i)"
   ]
  },
  {
   "cell_type": "code",
   "execution_count": 59,
   "metadata": {},
   "outputs": [
    {
     "name": "stdout",
     "output_type": "stream",
     "text": [
      "anything: 1\n",
      "anything: 2\n",
      "anything: 3\n"
     ]
    }
   ],
   "source": [
    "#i is a variable, we could call it anything\n",
    "for anything in [1,2,3]:\n",
    "    print ('anything:',anything)"
   ]
  },
  {
   "cell_type": "code",
   "execution_count": 65,
   "metadata": {},
   "outputs": [
    {
     "name": "stdout",
     "output_type": "stream",
     "text": [
      "index: 0 i: 1\n",
      "index: 1 i: 2\n",
      "index: 2 i: 3\n"
     ]
    }
   ],
   "source": [
    "for index, i in enumerate([1,2,3]):# the enumerate function to shows the index, which starts at 0\n",
    "    print ('index:',index, 'i:',i)"
   ]
  },
  {
   "cell_type": "code",
   "execution_count": 66,
   "metadata": {},
   "outputs": [
    {
     "name": "stdout",
     "output_type": "stream",
     "text": [
      "i: 2\n",
      "i: 5\n",
      "i: 6\n",
      "i: 7\n"
     ]
    }
   ],
   "source": [
    "# We can iterate over most things\n",
    "a_set_of_ints = set([5,6,2,6,7])\n",
    "for i in a_set_of_ints:\n",
    "    print ('i:', i)\n",
    "#Why are there only 4 i's? Why did the order change?"
   ]
  },
  {
   "cell_type": "code",
   "execution_count": 67,
   "metadata": {},
   "outputs": [
    {
     "name": "stdout",
     "output_type": "stream",
     "text": [
      "i: 5\n",
      "i: 6\n",
      "i: 2\n",
      "i: 6\n",
      "i: 7\n"
     ]
    }
   ],
   "source": [
    "# We can iterate over most things\n",
    "a_list_of_strs = ['5','6','2','6','7']\n",
    "for i in a_list_of_strs:\n",
    "    print ('i:', i)\n",
    "#Why no chnages this time?"
   ]
  },
  {
   "cell_type": "code",
   "execution_count": 68,
   "metadata": {},
   "outputs": [
    {
     "name": "stdout",
     "output_type": "stream",
     "text": [
      "i: 5\n",
      "i: 6\n",
      "i: 2\n",
      "i: 6\n",
      "i: 7\n"
     ]
    }
   ],
   "source": [
    "# We can iterate over most things\n",
    "a_str = '56267'\n",
    "for i in a_str:\n",
    "    print ('i:', i)"
   ]
  },
  {
   "cell_type": "code",
   "execution_count": 69,
   "metadata": {},
   "outputs": [
    {
     "name": "stdout",
     "output_type": "stream",
     "text": [
      "i: a\n",
      "i: b\n",
      "i: c\n"
     ]
    }
   ],
   "source": [
    "# We can iterate over most things\n",
    "a_dict = {'a':1,'b':2,'c':3}\n",
    "for i in a_dict:\n",
    "    print ('i:', i)"
   ]
  },
  {
   "cell_type": "code",
   "execution_count": 70,
   "metadata": {},
   "outputs": [
    {
     "name": "stdout",
     "output_type": "stream",
     "text": [
      "i: key: a value: 1\n",
      "i: key: b value: 2\n",
      "i: key: c value: 3\n"
     ]
    }
   ],
   "source": [
    "#where are the values?\n",
    "a_dict = {'a':1,'b':2,'c':3}\n",
    "for i in a_dict:\n",
    "    print ('i:', 'key:',i,'value:',a_dict.get(i))"
   ]
  },
  {
   "cell_type": "code",
   "execution_count": 71,
   "metadata": {},
   "outputs": [
    {
     "name": "stdout",
     "output_type": "stream",
     "text": [
      "i: 1\n",
      "i: 2\n",
      "i: f\n"
     ]
    }
   ],
   "source": [
    "# We can iterate over most things\n",
    "a_tuple = (1,'2','f')\n",
    "for i in a_tuple:\n",
    "    print ('i:', i)"
   ]
  },
  {
   "cell_type": "code",
   "execution_count": null,
   "metadata": {
    "collapsed": true
   },
   "outputs": [],
   "source": [
    "#What else can we iterate?"
   ]
  },
  {
   "cell_type": "code",
   "execution_count": 77,
   "metadata": {},
   "outputs": [
    {
     "name": "stdout",
     "output_type": "stream",
     "text": [
      "x: 0\n",
      "x: 1\n",
      "x: 2\n",
      "x: 3\n"
     ]
    }
   ],
   "source": [
    "#while loops\n",
    "x = 0\n",
    "while x < 4:#same as for loops but only end when a certain condition is met\n",
    "    print ('x:', x)\n",
    "    x += 1 #don't forget to increment the condition or you'll have an infinite loop!"
   ]
  },
  {
   "cell_type": "markdown",
   "metadata": {},
   "source": [
    "# if"
   ]
  },
  {
   "cell_type": "code",
   "execution_count": 80,
   "metadata": {},
   "outputs": [
    {
     "name": "stdout",
     "output_type": "stream",
     "text": [
      "3 is greater than 2\n"
     ]
    }
   ],
   "source": [
    "if 3 > 2:\n",
    "    print ('3 is greater than 2')"
   ]
  },
  {
   "cell_type": "code",
   "execution_count": 84,
   "metadata": {},
   "outputs": [
    {
     "name": "stdout",
     "output_type": "stream",
     "text": [
      "b False i =  1 , i = 1\n",
      "a True i =  1 , i != 1\n",
      "a True i =  f , i != 1\n"
     ]
    }
   ],
   "source": [
    "a_tuple = (1,'1','f')\n",
    "for i in a_tuple:\n",
    "    if i != 1:\n",
    "        print ('a',i != 1, 'i = ', i, ', i != 1')\n",
    "    else:\n",
    "        print ('b', i != 1, 'i = ', i, ', i = 1')"
   ]
  },
  {
   "cell_type": "code",
   "execution_count": 87,
   "metadata": {},
   "outputs": [
    {
     "name": "stdout",
     "output_type": "stream",
     "text": [
      "else: i isnt r or _! i is a\n",
      "elif: i is _\n",
      "else: i isnt r or _! i is s\n",
      "else: i isnt r or _! i is t\n",
      "if: i is r!\n"
     ]
    }
   ],
   "source": [
    "a_str = 'a_str'\n",
    "for i in a_str:# Iterate over a str and test two conditions, if they are not met else catches all\n",
    "    if i == 'r':\n",
    "        print ('if: i is r!')\n",
    "    elif i == '_':\n",
    "        print ('elif: i is _')\n",
    "    else:\n",
    "        print ('else: i isnt r or _! i is', i)"
   ]
  },
  {
   "cell_type": "markdown",
   "metadata": {},
   "source": [
    "# indexing"
   ]
  },
  {
   "cell_type": "code",
   "execution_count": 88,
   "metadata": {},
   "outputs": [
    {
     "name": "stdout",
     "output_type": "stream",
     "text": [
      "0th position of a_str: a\n"
     ]
    }
   ],
   "source": [
    "#get the ith position of an object or container\n",
    "a_str = 'a_str'\n",
    "print ('0th position of a_str:', a_str[0])"
   ]
  },
  {
   "cell_type": "code",
   "execution_count": 90,
   "metadata": {},
   "outputs": [
    {
     "name": "stdout",
     "output_type": "stream",
     "text": [
      "first postion of a_str: _\n",
      "4th postion of a_str: r\n"
     ]
    }
   ],
   "source": [
    "print ('first postion of a_str:', a_str[1])#word better\n",
    "print ('4th postion of a_str:', a_str[4])"
   ]
  },
  {
   "cell_type": "code",
   "execution_count": 91,
   "metadata": {},
   "outputs": [
    {
     "name": "stdout",
     "output_type": "stream",
     "text": [
      "first 2 postions of a_str: a_\n",
      "last 2 postions of a_str: tr\n",
      "last 2 postions of a_str: tr\n"
     ]
    }
   ],
   "source": [
    "print ('first 2 postions of a_str:', a_str[:2])# use [:] to take chunks\n",
    "print ('last 2 postions of a_str:', a_str[3:])\n",
    "print ('last 2 postions of a_str:', a_str[-2:])#use - to count from the end"
   ]
  },
  {
   "cell_type": "code",
   "execution_count": 94,
   "metadata": {},
   "outputs": [
    {
     "name": "stdout",
     "output_type": "stream",
     "text": [
      "every 2nd position of a list: [1, 3, 5, 7]\n",
      "every 3rd position of a list, reversed: [8, 5, 2]\n"
     ]
    }
   ],
   "source": [
    "a_list = [1,2,3,4,5,6,7,8]\n",
    "print ('every 2nd position of a list:', a_list[::2])#use [::i] to take every ith position\n",
    "print ('every 3rd position of a list, reversed:', a_list[::-3])#use [::-n] to take every nth position in reverse"
   ]
  },
  {
   "cell_type": "code",
   "execution_count": 98,
   "metadata": {
    "collapsed": true
   },
   "outputs": [],
   "source": [
    "from Bio import SeqIO"
   ]
  },
  {
   "cell_type": "code",
   "execution_count": 96,
   "metadata": {
    "collapsed": true
   },
   "outputs": [],
   "source": [
    "with open('test.fa', 'w') as fout:\n",
    "    for i in range(4):\n",
    "        fout.write('>' + str(i) + '\\n')\n",
    "        fout.write('AATTTGGGCCCGGG\\n')"
   ]
  },
  {
   "cell_type": "code",
   "execution_count": 103,
   "metadata": {},
   "outputs": [
    {
     "name": "stdout",
     "output_type": "stream",
     "text": [
      "NLGP\n",
      "NLGP\n",
      "NLGP\n",
      "NLGP\n"
     ]
    },
    {
     "name": "stderr",
     "output_type": "stream",
     "text": [
      "/Users/lmcintyre/anaconda3/lib/python3.6/site-packages/Bio/Seq.py:2309: BiopythonWarning: Partial codon, len(sequence) not a multiple of three. Explicitly trim the sequence or add trailing N before translation. This may become an error in future.\n",
      "  BiopythonWarning)\n"
     ]
    }
   ],
   "source": [
    "for record in SeqIO.parse('test.fa','fasta'):\n",
    "    print (record.seq.translate())"
   ]
  },
  {
   "cell_type": "code",
   "execution_count": null,
   "metadata": {
    "collapsed": true
   },
   "outputs": [],
   "source": []
  }
 ],
 "metadata": {
  "kernelspec": {
   "display_name": "Python 3",
   "language": "python",
   "name": "python3"
  },
  "language_info": {
   "codemirror_mode": {
    "name": "ipython",
    "version": 3
   },
   "file_extension": ".py",
   "mimetype": "text/x-python",
   "name": "python",
   "nbconvert_exporter": "python",
   "pygments_lexer": "ipython3",
   "version": "3.6.2"
  }
 },
 "nbformat": 4,
 "nbformat_minor": 2
}
